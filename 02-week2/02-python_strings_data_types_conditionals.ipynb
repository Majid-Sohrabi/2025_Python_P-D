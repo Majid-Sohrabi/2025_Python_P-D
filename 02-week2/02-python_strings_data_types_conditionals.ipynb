{
 "cells": [
  {
   "cell_type": "markdown",
   "metadata": {
    "id": "Dp-fwTIQ7_7d"
   },
   "source": [
    "# Week 2: Intro to Python Programming"
   ]
  },
  {
   "cell_type": "markdown",
   "metadata": {},
   "source": [
    "## 1. Strings and symbols\n",
    "\n",
    "Python can work with strings one symbol at a time.\n",
    "\n",
    "We can put square brackets after the string and put there an order number of a symbol that we want to work with. But we should keep in mind that Python counts from 0. So the first letter is stored under the index 0."
   ]
  },
  {
   "cell_type": "code",
   "execution_count": null,
   "metadata": {},
   "outputs": [],
   "source": [
    "print('Hello'[0]) # prints us the first letter"
   ]
  },
  {
   "cell_type": "code",
   "execution_count": null,
   "metadata": {},
   "outputs": [],
   "source": [
    "print('Hello'[1]) # and now the second"
   ]
  },
  {
   "cell_type": "code",
   "execution_count": null,
   "metadata": {},
   "outputs": [],
   "source": [
    "print('Hello'[2])"
   ]
  },
  {
   "cell_type": "code",
   "execution_count": null,
   "metadata": {},
   "outputs": [],
   "source": [
    "print('Hello'[3])\n",
    "print('Hello'[4])"
   ]
  },
  {
   "cell_type": "markdown",
   "metadata": {},
   "source": [
    "We can also store a string inside the variable and still be able to access its symbols."
   ]
  },
  {
   "cell_type": "code",
   "execution_count": null,
   "metadata": {},
   "outputs": [],
   "source": [
    "s = 'Hello'\n",
    "print(s[0]) # prints the first symbol of the string that is stored in 's' variable\n",
    "print(s[1])\n",
    "print(s[2])\n",
    "print(s[3])\n",
    "print(s[4])\n",
    "print(s) # prints the entire string"
   ]
  },
  {
   "cell_type": "markdown",
   "metadata": {},
   "source": [
    "You may notice, that all those commands did not affect the string 'Hello' itself. So basically when we call `print(s[2])`, computer does not delete other symbols, but simply shows the only one that corresponds to that **index**."
   ]
  },
  {
   "cell_type": "markdown",
   "metadata": {},
   "source": [
    "We can find out how many symbols there are in the string if we call function `len()`"
   ]
  },
  {
   "cell_type": "code",
   "execution_count": null,
   "metadata": {},
   "outputs": [],
   "source": [
    "print(len('Hello'))"
   ]
  },
  {
   "cell_type": "markdown",
   "metadata": {},
   "source": [
    "What will happen if we put into the brackets a very large index?"
   ]
  },
  {
   "cell_type": "code",
   "execution_count": null,
   "metadata": {
    "scrolled": true
   },
   "outputs": [],
   "source": [
    "s = 'Hello'\n",
    "print(s[10])  # should print the 11-s symbol of the string 'Hello' but it simply does not exist"
   ]
  },
  {
   "cell_type": "markdown",
   "metadata": {},
   "source": [
    "Will get an error `IndexError: string index out of range`, which simply tells us that our index is out of range."
   ]
  },
  {
   "cell_type": "markdown",
   "metadata": {},
   "source": [
    "Can we use a negative index?"
   ]
  },
  {
   "cell_type": "code",
   "execution_count": null,
   "metadata": {},
   "outputs": [],
   "source": [
    "s = 'Hello'\n",
    "print(s[-1])"
   ]
  },
  {
   "cell_type": "markdown",
   "metadata": {},
   "source": [
    "There will be no error, and we will get the last symbol of the string. So basically with negative indexing we can read our string right to left."
   ]
  },
  {
   "cell_type": "code",
   "execution_count": null,
   "metadata": {},
   "outputs": [],
   "source": [
    "s = 'Hello'\n",
    "print(s[-1])  # The last symbol\n",
    "print(s[-2])  # Second from the end\n",
    "print(s[-3])\n",
    "print(s[-4])\n",
    "print(s[-5])"
   ]
  },
  {
   "cell_type": "markdown",
   "metadata": {},
   "source": [
    "If we ask for a too small index, we will also get an IndexError."
   ]
  },
  {
   "cell_type": "code",
   "execution_count": null,
   "metadata": {},
   "outputs": [],
   "source": [
    "s = 'Hello'\n",
    "print(s[-8]) # there is no -8 index, since there are only 5 symbols in our string"
   ]
  },
  {
   "cell_type": "markdown",
   "metadata": {},
   "source": [
    "## Task 1.1\n",
    "Let's find out some information about Russian passport holder.\n",
    "\n",
    "The ID of Russian passports looks like this: 4612 796901, where the first two digits — an ID of the region, where it was issued. And the second pair of digits is the year, when it was issued."
   ]
  },
  {
   "cell_type": "code",
   "execution_count": null,
   "metadata": {},
   "outputs": [],
   "source": [
    "# input a passport ID number in a following format: four digits - space - six digits\n",
    "# store it into the `ID` variable\n",
    "<YOUR CODE>\n",
    "\n",
    "# store the first two digits into the variable `region`\n",
    "<YOUR CODE>\n",
    "\n",
    "# store the third and the forth digit into the variable `year`\n",
    "<YOUR CODE>\n",
    "\n",
    "# print full passport ID number\n",
    "<YOUR CODE>\n",
    "\n",
    "# print the string 'This passport was issued in', year variable, ' year.'\n",
    "<YOUR CODE>\n",
    "\n",
    "# print the string 'This passport was issued in', region variable, ' region.'\n",
    "<YOUR CODE>"
   ]
  },
  {
   "cell_type": "markdown",
   "metadata": {},
   "source": [
    "## How to print a pretty output"
   ]
  },
  {
   "cell_type": "code",
   "execution_count": null,
   "metadata": {},
   "outputs": [],
   "source": [
    "print('Olga')\n",
    "print('Melnikov')"
   ]
  },
  {
   "cell_type": "code",
   "execution_count": null,
   "metadata": {},
   "outputs": [],
   "source": [
    "print('MA', 'BB', 'CC')"
   ]
  },
  {
   "cell_type": "code",
   "execution_count": null,
   "metadata": {},
   "outputs": [],
   "source": [
    "first = input('What would you bring to a deserted island? ')\n",
    "second = input('And? ')\n",
    "third = input('Something else? ')\n",
    "\n",
    "print('To a deserted island you would bring' , end=\": \") # end=\": \" — This way we ask Python not to \n",
    "                                                         #            finish printed line with a \\n\n",
    "                                                         # but rather put ': ' in the end and start \n",
    "                                                         # next printed line right after colon\n",
    "    \n",
    "print(first, second, third, sep=\", \") # sep=\", \" — this way we ask Python to not \n",
    "                                      # simply print strings with space between them,\n",
    "                                      # but put there a comma with a space after"
   ]
  },
  {
   "cell_type": "markdown",
   "metadata": {},
   "source": [
    "With a little help of words `sep` and `end` we are tuning `print()` function. We tell computer what do we want exactly. We do not know, how `print()` works, as we know nothing about the internal mechanism of the vending coffee machine. But with a help of `sep` and `end` we can specify how our text should be printed.\n",
    "\n",
    "Words `sep` and `end` are like `More sugar` and `Less sugar` buttons at the face of the coffee automat — they help us to tune what we will get as a result. Such words we would call **keyword arguments** or **function parameters**."
   ]
  },
  {
   "cell_type": "markdown",
   "metadata": {},
   "source": [
    "## Task 1.2\n",
    "\n",
    "#### How to write all letters of a word seperately in one line???"
   ]
  },
  {
   "cell_type": "code",
   "execution_count": null,
   "metadata": {},
   "outputs": [],
   "source": [
    "text = \"Hello\"\n",
    "for i in text:\n",
    "    print(i)"
   ]
  },
  {
   "cell_type": "code",
   "execution_count": null,
   "metadata": {},
   "outputs": [],
   "source": [
    "<YOUR CODE>"
   ]
  },
  {
   "cell_type": "code",
   "execution_count": null,
   "metadata": {
    "scrolled": true
   },
   "outputs": [],
   "source": [
    "print('String here is also called an argument, but not a keyword argument')"
   ]
  },
  {
   "cell_type": "markdown",
   "metadata": {},
   "source": [
    "We already know that if we want to put a variable value into a string, we may use `+` operator to 'glue' strings together."
   ]
  },
  {
   "cell_type": "code",
   "execution_count": null,
   "metadata": {},
   "outputs": [],
   "source": [
    "# Pay attention to the symbol --> \\ <--\n",
    "# It allows to use single quote inide a string defined by single quote\n",
    "\n",
    "name = input('What is the student\\'s name? ')\n",
    "print('Hi, ' + name)"
   ]
  },
  {
   "cell_type": "markdown",
   "metadata": {},
   "source": [
    "However, it is not always convenient. Sometimes we need to put that variable into many places. Or to put something after it. Here we can use so called `f-strings`.\n",
    "\n",
    "* We put `f` symbol before the quotation mark of our string.\n",
    "* Inside the string we put curly brackets and inside them the variable name that should be printed in that place.\n",
    "* Those curly brackets and `f-symbol` are technical symbols, they will not be printed but they will signal Python that we want put variable's contents inside the string."
   ]
  },
  {
   "cell_type": "code",
   "execution_count": null,
   "metadata": {},
   "outputs": [],
   "source": [
    "name = input('What is student\\'s name? ')\n",
    "print(f'Привет, {name}')\n",
    "print(f'Hello, {name}!')\n",
    "print(f'おはようございます, {name}!')"
   ]
  },
  {
   "cell_type": "code",
   "execution_count": null,
   "metadata": {},
   "outputs": [],
   "source": [
    "name = input('What is student\\'s name? ')\n",
    "addr = input('Where will be the party? ')\n",
    "date = input('Day? ')\n",
    "time = input('Time? ')\n",
    "print(f'Hi, {name}! We want to invite you to a party. It will happen here: {addr}, on {date} at {time} pm. Looking forward!')"
   ]
  },
  {
   "cell_type": "markdown",
   "metadata": {},
   "source": [
    "If we want to print it on several lines, we can add `\\n` symbols inside the text. It will break the text to the next line."
   ]
  },
  {
   "cell_type": "code",
   "execution_count": null,
   "metadata": {},
   "outputs": [],
   "source": [
    "print(f'Hi, {name}! We want to invite you to party.\\nIt will happen here: {addr}, on {date} at {time} pm.\\nLooking forward!')"
   ]
  },
  {
   "cell_type": "code",
   "execution_count": null,
   "metadata": {},
   "outputs": [],
   "source": []
  },
  {
   "cell_type": "code",
   "execution_count": null,
   "metadata": {},
   "outputs": [],
   "source": []
  },
  {
   "cell_type": "markdown",
   "metadata": {},
   "source": [
    "## 2. Data Types\n",
    "\n",
    "We, as people, constantly classify things. We can easily tell a bicycle from a car, and we know instantly how we should use them. All cars are different, but when you hear the word 'car' you have some basic understanding of what it is. This skill of typing of the word helps us to make sense of it.\n",
    "\n",
    "Python also can work with different kinds of objects and also has an abitility of typing them. The most basic of Python data types are the following:\n",
    "* **Integers**. We use them if we want to count apples (2 apples or 10 apples).\n",
    "* **Floating point numbers**. We use them when we want to buy a 1.5 liter of Coca-Cola\n",
    "* **Strings**. We use them when we want to type something or to print something."
   ]
  },
  {
   "cell_type": "markdown",
   "metadata": {},
   "source": [
    "What can computer do with integers?"
   ]
  },
  {
   "cell_type": "code",
   "execution_count": null,
   "metadata": {},
   "outputs": [],
   "source": [
    "print(11 + 2)  # addition\n",
    "print(11 - 2)  # subtraction\n",
    "print(11 * 2)  # multiplication\n",
    "print(11 / 2)  # division"
   ]
  },
  {
   "cell_type": "markdown",
   "metadata": {},
   "source": [
    "Also Python can perform an integer division. We use that if we want to find out how many apples can two friends get if they divide them equally. Also we can find a reminder of such division. E.g. how many apples will be left if there were two friends and an odd number of apples."
   ]
  },
  {
   "cell_type": "code",
   "execution_count": null,
   "metadata": {},
   "outputs": [],
   "source": [
    "print(11 // 2)  # Integer division — each friend will get five apples\n",
    "print(11 % 2)   # Modulo — reminder of division — one apples is left undistributed"
   ]
  },
  {
   "cell_type": "markdown",
   "metadata": {},
   "source": [
    "We can perform all the same operations to the floating point numbers as well."
   ]
  },
  {
   "cell_type": "code",
   "execution_count": null,
   "metadata": {},
   "outputs": [],
   "source": [
    "print(11.5 + 2)  # addition\n",
    "print(11.5 - 2)  # subtraction\n",
    "print(11.5 * 2)  # multiplication\n",
    "print(11.5 / 2)  # division\n",
    "\n",
    "print(11.5 // 2)    # integer division\n",
    "print(11.5 % 2)     # modulo"
   ]
  },
  {
   "cell_type": "markdown",
   "metadata": {},
   "source": [
    "Of course, Python can raise numbers to a power."
   ]
  },
  {
   "cell_type": "code",
   "execution_count": null,
   "metadata": {},
   "outputs": [],
   "source": [
    "print(3 ** 2)  # 3 to 2nd power\n",
    "print(3 ** 3)  # 3 to 3rd power\n",
    "\n",
    "print(3.5 ** 2) # 3.4 to 2nd power"
   ]
  },
  {
   "cell_type": "markdown",
   "metadata": {},
   "source": [
    "Ok, we get it. But what can we do with strings?"
   ]
  },
  {
   "cell_type": "code",
   "execution_count": null,
   "metadata": {},
   "outputs": [],
   "source": [
    "print('Hello' + 'world')  # we can 'glue' them together\n",
    "print('Hello' + ' ' + 'world')  # if we need a space, we'll need to glue it as well\n",
    "print('Hello ' + 'world') # or put a space inside one of the strings\n",
    "\n",
    "print('OneMoreTime!' * 4)  # or we can repeat a string for N number of times"
   ]
  },
  {
   "cell_type": "markdown",
   "metadata": {},
   "source": [
    "How much is 19920630 + 1?"
   ]
  },
  {
   "cell_type": "code",
   "execution_count": null,
   "metadata": {},
   "outputs": [],
   "source": [
    "print('19920630' + '1')   # if they are strings, result would be somewhat surprising\n",
    "print(19920630 + 1)       # if they integers, we will get an integer\n",
    "print(19920630 + 1.0)     # if at least one of them is a float, we will get a float"
   ]
  },
  {
   "cell_type": "markdown",
   "metadata": {},
   "source": [
    "What will happen if we add an integer to a string?"
   ]
  },
  {
   "cell_type": "code",
   "execution_count": null,
   "metadata": {},
   "outputs": [],
   "source": [
    "print('19920630' + 1)"
   ]
  },
  {
   "cell_type": "markdown",
   "metadata": {},
   "source": [
    "`TypeError: can only concatenate str (not \"int\") to str`: we will get an error. Python cannot add those two different types, it can either glue two strings together, or sum up two integers."
   ]
  },
  {
   "cell_type": "markdown",
   "metadata": {},
   "source": [
    "Let's find out how to tell Python to convert one data type to another. (Casting)"
   ]
  },
  {
   "cell_type": "code",
   "execution_count": null,
   "metadata": {},
   "outputs": [],
   "source": [
    "a = input('Type in a number: ')\n",
    "b = input('And another one: ')\n",
    "print(a + b)"
   ]
  },
  {
   "cell_type": "markdown",
   "metadata": {},
   "source": [
    "We definitely did not get a sum of two integers. Let's use a function `type() ` to find out what are the types of the values stored in the variables `a` and `b` :"
   ]
  },
  {
   "cell_type": "code",
   "execution_count": null,
   "metadata": {},
   "outputs": [],
   "source": [
    "a = input('Type in a number: ')\n",
    "b = input('And another one: ')\n",
    "print(type(a), type(b))\n",
    "print(a + b)"
   ]
  },
  {
   "cell_type": "markdown",
   "metadata": {},
   "source": [
    "`str` stays for string type. Let's see how Python sees numbers."
   ]
  },
  {
   "cell_type": "code",
   "execution_count": null,
   "metadata": {},
   "outputs": [],
   "source": [
    "print(type(4), type(3.5))"
   ]
  },
  {
   "cell_type": "markdown",
   "metadata": {},
   "source": [
    "* Integers in Python are called **int**.\n",
    "* Floating point numbers in Python are called **float**.\n",
    "* Strings are called **str**."
   ]
  },
  {
   "cell_type": "markdown",
   "metadata": {},
   "source": [
    "When we give Python some data via `input()` it reads everything as strings. If we need to convert it to another data type, we should use `int()` for integers, and `float()` for floating point numbers.\n",
    "\n",
    "Let's add those numbers from the problem above.\n",
    "\n",
    "1. Type in the first number and store it into the variable. It will be read as a string.\n",
    "2. Convert the string to integer and re-write the variable.\n",
    "3. Read the second number, convert it to an integer and store it into the variable.\n",
    "4. Add two numbers together and print the result."
   ]
  },
  {
   "cell_type": "code",
   "execution_count": null,
   "metadata": {},
   "outputs": [],
   "source": [
    "a = input('Type in a number: ')\n",
    "a = int(a)  # re-writing variable a with an int()\n",
    "b = int(input('And another: ')) # second number we will convert to int in one line\n",
    "print(a + b)"
   ]
  },
  {
   "cell_type": "markdown",
   "metadata": {},
   "source": [
    "## Task 2.1\n",
    "Let's find how much do the cake pieces weigh."
   ]
  },
  {
   "cell_type": "code",
   "execution_count": null,
   "metadata": {},
   "outputs": [],
   "source": [
    "# input the number of pieces we need to divide the cake into and store it into the variable named `a`\n",
    "<YOUR CODE>\n",
    "\n",
    "# convert contents of the variable `a` into an integer and re-write the variable `a` with an integer\n",
    "<YOUR CODE>\n",
    "\n",
    "# input how much kilos does the entire cake weigh (floating point number),\n",
    "# convert it to float and store into the `b` variable\n",
    "<YOUR CODE>\n",
    "\n",
    "# find out how much will the each piece weigh and store it into the `c` varaible\n",
    "<YOUR CODE>\n",
    "\n",
    "# glue three strins together: \"One piece is \", contents of `c` variable, and ' kilos'\n",
    "# and store the result into the variable `answer`\n",
    "<YOUR CODE>\n",
    "\n",
    "# print the variable `answer`\n",
    "<YOUR CODE>"
   ]
  },
  {
   "cell_type": "markdown",
   "metadata": {},
   "source": [
    "Let's review what we've learned."
   ]
  },
  {
   "cell_type": "code",
   "execution_count": null,
   "metadata": {},
   "outputs": [],
   "source": [
    "print('We perform the following to the integers and floats')\n",
    "print('We can add them:')\n",
    "print(5 + 7)\n",
    "print(5.5 + 6.5)\n",
    "\n",
    "print('\\n************')\n",
    "print('Subtract:')\n",
    "print(5 - 7)\n",
    "print(5.5 - 7.5)\n",
    "\n",
    "print('\\n************')\n",
    "print('Multiply:')\n",
    "print(5 * 7)\n",
    "print(5.5 * 7)\n",
    "\n",
    "print('\\n************')\n",
    "print('Divide:')\n",
    "print(8 / 16)\n",
    "print(4.2 / 2)\n",
    "\n",
    "print('\\n************')\n",
    "print('Perform integer division:')\n",
    "print(5 // 2)\n",
    "print(5.5 // 2)\n",
    "\n",
    "print('\\n************')\n",
    "print('Perform modulo operation:')\n",
    "print(5 % 2)\n",
    "print(5.5 % 2)"
   ]
  },
  {
   "cell_type": "code",
   "execution_count": null,
   "metadata": {},
   "outputs": [],
   "source": [
    "print('To strings we can do the following')\n",
    "print('We can glue them together:')\n",
    "first = 'Hello '\n",
    "second = 'World!'\n",
    "text = first + second\n",
    "print(text)\n",
    "\n",
    "print('\\nWe can multiply them by an integer:')\n",
    "text = first * 4\n",
    "print(text)"
   ]
  },
  {
   "cell_type": "code",
   "execution_count": null,
   "metadata": {},
   "outputs": [],
   "source": []
  },
  {
   "cell_type": "code",
   "execution_count": null,
   "metadata": {},
   "outputs": [],
   "source": []
  },
  {
   "cell_type": "markdown",
   "metadata": {},
   "source": [
    "## 3. Conditional statements in Python. If-else operators"
   ]
  },
  {
   "cell_type": "markdown",
   "metadata": {},
   "source": [
    "Let's take a look how to write a conditional statement in Python."
   ]
  },
  {
   "cell_type": "markdown",
   "metadata": {},
   "source": [
    "### Logical variables\n",
    "\n",
    "Let's talk about the logic of our actions if we were to cook eggs for breakfast.\n",
    "\n",
    "*If there are no eggs in the refrigerator -- we go to the grocery store*\n",
    "\n",
    "Block diagram for this scenario would be something like this.\n",
    "\n",
    "<img src=\"https://github.com/rogovich/Data/blob/master/img/Coursera_English/1_eng.png?raw=true\" width=\"300\">\n",
    "\n",
    "Here we use a condititon:\n",
    "\n",
    "```python\n",
    "<*If there are no eggs in the refrigerator*>.\n",
    "```\n",
    "\n",
    "Then there are two courses of action:\n",
    "* There are really no eggs and then our *condition is True*\n",
    "* There are some eggs and then our *condition is False*.\n",
    "\n",
    "So bacically our condition can be only in one of two states. Either True or False.\n",
    "\n",
    "Such data type which can be only True or False are called **boolean data type** or **booleans**."
   ]
  },
  {
   "cell_type": "code",
   "execution_count": null,
   "metadata": {},
   "outputs": [],
   "source": [
    "print(type(True))\n",
    "x = False\n",
    "print(type(x))"
   ]
  },
  {
   "cell_type": "markdown",
   "metadata": {},
   "source": [
    "### Comparison operators in Python\n",
    "How do we check whether the condition \n",
    "\n",
    "```python\n",
    "<*There are no eggs in the refrigerator*>\n",
    "```\n",
    "\n",
    "is True of False? How can we write such a condition in Python?\n",
    "\n",
    "We can express this statement numerically. *No eggs* basically means that eggs quantity is zero.\n",
    "\n",
    "```python\n",
    "If <eggs quantity = 0>, then <we go to the grocery store>\n",
    "```\n",
    "\n",
    "But this statement is not entirely correct. Instead of `=` operator, which in Python is used for a variable assignment, we should use `==`. `eggs quantity = 0` whould mean `put the label to an integer 0`. If we want to compare variable contents to 0 we should write it diffirently.\n",
    "\n",
    "```python\n",
    "If <eggs quantity == 0>, then <we go to the grocery store>\n",
    "```\n",
    "\n",
    "Are there other comparison operators? Yes!\n",
    "\n",
    "- **>** – greater than;\n",
    "- **<** – less than;\n",
    "- **==** – equal to;\n",
    "- **>=** – greater than or equal to;\n",
    "- **<=** – less than or equal to;\n",
    "- **!=** – not equal to.\n",
    "\n",
    "If we are using any of those operators, the result always will be a boolean value (True of False).\n",
    "\n",
    "Let's check!"
   ]
  },
  {
   "cell_type": "code",
   "execution_count": null,
   "metadata": {},
   "outputs": [],
   "source": [
    "print(10 == 10) # ten is equal to ten. It is true!"
   ]
  },
  {
   "cell_type": "markdown",
   "metadata": {},
   "source": [
    "We can also compare results of calculations."
   ]
  },
  {
   "cell_type": "code",
   "execution_count": null,
   "metadata": {},
   "outputs": [],
   "source": [
    "print(9 + 1 == 10)"
   ]
  },
  {
   "cell_type": "markdown",
   "metadata": {},
   "source": [
    "Let's try something that would give us False"
   ]
  },
  {
   "cell_type": "code",
   "execution_count": null,
   "metadata": {},
   "outputs": [],
   "source": [
    "print(10 > 10) # ten is not greater than ten"
   ]
  },
  {
   "cell_type": "markdown",
   "metadata": {},
   "source": [
    "Boolean variables in Python will be defined as **bool**"
   ]
  },
  {
   "cell_type": "code",
   "execution_count": null,
   "metadata": {},
   "outputs": [],
   "source": [
    "print(type(10 > 10))"
   ]
  },
  {
   "cell_type": "code",
   "execution_count": null,
   "metadata": {},
   "outputs": [],
   "source": [
    "print(type(True))"
   ]
  },
  {
   "cell_type": "markdown",
   "metadata": {},
   "source": [
    "### Operator If"
   ]
  },
  {
   "cell_type": "markdown",
   "metadata": {},
   "source": [
    "Now let's try to realise conditional statement in Python.\n",
    "\n",
    "Statement *If \\<condition is True\\>, then \\<some instructions\\>* can be written like this:\n",
    "\n",
    "```python\n",
    "if <condition>:\n",
    "    <instructions when the condition is True>\n",
    "```\n",
    "Here a *condition* always would be some logical value or expression that can result in one.\n",
    "\n",
    "Now we know how to write up our breakfast example in Python.\n",
    "\n",
    "<img src=\"https://github.com/rogovich/Data/blob/master/img/Coursera_English/if_eng.png?raw=true\" width=\"200\">"
   ]
  },
  {
   "cell_type": "code",
   "execution_count": null,
   "metadata": {},
   "outputs": [],
   "source": [
    "eggs = int(input('How many eggs are in the refrigerator? '))   # stroring eggs quantity into the variable `eggs`\n",
    "if eggs == 0:       # checking if we have any eggs\n",
    "    print('Going to the store!')  # printing something if our condition is True\n",
    "\n",
    "print('Cooking eggs sunny-side-up!')"
   ]
  },
  {
   "cell_type": "markdown",
   "metadata": {},
   "source": [
    "So, instructions will be executed then and only then if our condition after the *if* operator is True.\n",
    "\n",
    "Please note, that instructions that are executed only when condition is True are written with an indent. This way Python knows that these instructions are relevant only to the present conditional statement.\n",
    "\n",
    "Now let's change our example a bit. Let's assume that we need no less than tree eggs to cook the breakfast.\n",
    "\n",
    "<img src=\"https://github.com/rogovich/Data/blob/master/img/Coursera_English/if-2_eng.png?raw=true\" width=\"200\">"
   ]
  },
  {
   "cell_type": "code",
   "execution_count": null,
   "metadata": {},
   "outputs": [],
   "source": [
    "eggs = int(input('How many eggs are there in the refrigerator? '))\n",
    "if eggs < 3:       # checking that we have enough eggs\n",
    "    print('Going to the store!')\n",
    "\n",
    "print('Cooking eggs sunny-side-up!')"
   ]
  },
  {
   "cell_type": "markdown",
   "metadata": {},
   "source": [
    "### Operator Else"
   ]
  },
  {
   "cell_type": "markdown",
   "metadata": {},
   "source": [
    "But what if we do not want to go shopping but rather want to have breakfast in the cafe nearby?\n",
    "\n",
    "Now, let's write a statement that tells us whether we can prepare breakfast at home or should we go out.\n",
    "\n",
    "Now we have two different actions and cooking does not depend anymore on shopping.\n",
    "\n",
    "Let's try to implement this with the second `if` statement."
   ]
  },
  {
   "cell_type": "code",
   "execution_count": null,
   "metadata": {},
   "outputs": [],
   "source": [
    "eggs = int(input('How many eggs are there in the refrigerator? '))\n",
    "\n",
    "# first conditional statement\n",
    "if eggs >= 3:\n",
    "    print('Cooking eggs sunny-side-up!')\n",
    "\n",
    "    # second conditional statement\n",
    "if eggs < 3:\n",
    "    print('Going to the cafe!')"
   ]
  },
  {
   "cell_type": "markdown",
   "metadata": {},
   "source": [
    "However in this case those two statements are **mutually exclusive**. Either we have 3 or more eggs, or we have less than 3 eggs.\n",
    "\n",
    "In such situtations it is easier to use the operator `else`.\n",
    "\n",
    "```python\n",
    "if <condition>:\n",
    "    <instructions when condition is True>\n",
    "else:\n",
    "    <instructions when condition is False>\n",
    "```  \n",
    "Instructions written after `else` would be executed then and only then if condition after `if` is False.\n",
    "\n",
    "Look at the updated diagram for our problem.\n",
    "\n",
    "<img src=\"https://github.com/rogovich/Data/blob/master/img/Coursera_English/else_eng.png?raw=true\" width=\"300\">\n"
   ]
  },
  {
   "cell_type": "code",
   "execution_count": null,
   "metadata": {},
   "outputs": [],
   "source": [
    "eggs = int(input('How many eggs are there in the refrigerator? '))\n",
    "\n",
    "if eggs >= 3:\n",
    "    print('Cooking eggs sunny-side-up!')\n",
    "\n",
    "    # replacing second conditional statement via else\n",
    "else:\n",
    "    print('Going to the cafe!')"
   ]
  },
  {
   "cell_type": "markdown",
   "metadata": {},
   "source": [
    "Now one conditional statement can handle two conditions."
   ]
  },
  {
   "cell_type": "markdown",
   "metadata": {},
   "source": [
    "### Nested If statements\n",
    "\n",
    "Sometimes we need to check more than one statement. We actually can put one `if` statement within the other. This would be called *nested if statements*.\n",
    "\n",
    "Please pay attention to the indents within such structures.\n",
    "\n",
    "Let's check for milk if we have eggs. If there is some milk let's cook an omelet.\n",
    "\n",
    "<img src=\"https://github.com/rogovich/Data/blob/master/img/Coursera_English/nested-if_eng.png?raw=true\" width=\"350\">"
   ]
  },
  {
   "cell_type": "code",
   "execution_count": null,
   "metadata": {},
   "outputs": [],
   "source": [
    "eggs = int(input('How many eggs are there in the refrigerator? '))\n",
    "\n",
    "# if...else statement\n",
    "if eggs >= 3:\n",
    "    \n",
    "    print('Cooking at home!')\n",
    "    milk = input('Is there any milk? Yes or No. ')\n",
    "    \n",
    "    # nested if statement\n",
    "    if milk == 'Yes':\n",
    "        print('Cooking an omelet!') # this is an instruction within nested if statement\n",
    "                                    # so we use a double indent\n",
    "else:\n",
    "    print('Going to the cafe!') # insturctions if we have less than 3 eggs"
   ]
  },
  {
   "cell_type": "markdown",
   "metadata": {},
   "source": [
    "`If...else` statement also can be nested. Let's cook either eggs sunny side up or an omelet.\n",
    "\n",
    "<img src=\"https://github.com/rogovich/Data/blob/master/img/Coursera_English/nested-if-else_eng.png?raw=true\" width=\"400\">"
   ]
  },
  {
   "cell_type": "code",
   "execution_count": null,
   "metadata": {},
   "outputs": [],
   "source": [
    "eggs = int(input('How many eggs are there in the refrigerator? '))\n",
    "\n",
    "# if...else statement\n",
    "if eggs >= 3:\n",
    "    \n",
    "    print('Cooking at home!')\n",
    "    milk = input('Is there any milk? Yes or No. ')\n",
    "    \n",
    "    # nested if...else statement\n",
    "    if milk == 'Yes':\n",
    "        print('Cooking an omelet!')\n",
    "    else:\n",
    "        print('Cooking eggs sunny-side-up!') # instructions if we do not have any milk\n",
    "\n",
    "else:\n",
    "    print('Going to the cafe!') # insturctions if we have less than 3 eggs"
   ]
  },
  {
   "cell_type": "code",
   "execution_count": null,
   "metadata": {},
   "outputs": [],
   "source": []
  }
 ],
 "metadata": {
  "colab": {
   "provenance": []
  },
  "kernelspec": {
   "display_name": "Python 3 (ipykernel)",
   "language": "python",
   "name": "python3"
  },
  "language_info": {
   "codemirror_mode": {
    "name": "ipython",
    "version": 3
   },
   "file_extension": ".py",
   "mimetype": "text/x-python",
   "name": "python",
   "nbconvert_exporter": "python",
   "pygments_lexer": "ipython3",
   "version": "3.10.9"
  }
 },
 "nbformat": 4,
 "nbformat_minor": 1
}
