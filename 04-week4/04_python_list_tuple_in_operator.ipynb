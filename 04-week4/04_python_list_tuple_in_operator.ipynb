{
 "cells": [
  {
   "cell_type": "markdown",
   "metadata": {
    "id": "d8ShhvetFpA7"
   },
   "source": [
    "# Week 4: List, Tuple, and In Operator"
   ]
  },
  {
   "cell_type": "markdown",
   "metadata": {},
   "source": [
    "# Intro to sequences\n",
    "\n",
    "It is rather convenient to store similar things together. In Python we can store some data within one structure. Some of those structures are called **sequences**.\n",
    "\n",
    "We already know one type of a sequence-like structure — `str` — strings.\n",
    "\n",
    "Python sees a string as a sequence of symbols, each has its own index number.\n",
    "\n",
    "But what data type can we use if we want to store together different data types?"
   ]
  },
  {
   "cell_type": "markdown",
   "metadata": {},
   "source": [
    "## 1. List"
   ]
  },
  {
   "cell_type": "code",
   "execution_count": null,
   "metadata": {},
   "outputs": [],
   "source": [
    "food_info = ['Chocolate', 1.90, 2, True]  # title, price, quantity, 'best before'\n",
    "print(type(food_info)) # checking data type"
   ]
  },
  {
   "cell_type": "code",
   "execution_count": null,
   "metadata": {},
   "outputs": [],
   "source": [
    "type('Chocolate'), type(1.90), type(2), type(True)"
   ]
  },
  {
   "cell_type": "markdown",
   "metadata": {},
   "source": [
    "So, to create a `list` and to store it into the variable we should\n",
    "1. Create a variable\n",
    "2. Assign to it our objects listed within square brackets."
   ]
  },
  {
   "cell_type": "markdown",
   "metadata": {},
   "source": [
    "We may also create empty `lists`. Later we will learn how to add new elements to our lists. This is a popular solution for some problems. E.g. we might want to populate an empty list with items that correspond to some conditions."
   ]
  },
  {
   "cell_type": "code",
   "execution_count": null,
   "metadata": {},
   "outputs": [],
   "source": [
    "# creating an empty list with []\n",
    "shopping_list = []\n",
    "print(shopping_list)\n",
    "\n",
    "# creating an empty list with list() function without arguments\n",
    "shopping_list_2 = list()\n",
    "print(shopping_list_2)"
   ]
  },
  {
   "cell_type": "markdown",
   "metadata": {},
   "source": [
    "### How to input a list?\n",
    "\n",
    "We cannot read a list from the input, but we can read the string and then transform it to a list.\n",
    "\n",
    "We can use `.split()` for the latter. This `.` point in front of `.split()` gives us an idea that `.split()` is not your usual function. E.g. we can use `print()` function with any type of data, it will print anything! But there are also some functions which scope is limited. `.split()` is one of those. We should call it only attached to a string, e.g. `'cat likes milk'.split()`. Such functions are called *methods*. We will talk more about them next time."
   ]
  },
  {
   "cell_type": "code",
   "execution_count": null,
   "metadata": {},
   "outputs": [],
   "source": [
    "s = 'a b c d e f g'     # string with letters\n",
    "alphabet = s.split()    # converting a string to a list\n",
    "print(f'String: {s}')\n",
    "print(f'List: {alphabet}')"
   ]
  },
  {
   "cell_type": "markdown",
   "metadata": {},
   "source": [
    "So it seems that `.split()` splits string via spaces. Let's check it!"
   ]
  },
  {
   "cell_type": "code",
   "execution_count": null,
   "metadata": {},
   "outputs": [],
   "source": [
    "s = 'ab cde f g' # putting random spaces\n",
    "print(s.split()) # still works"
   ]
  },
  {
   "cell_type": "markdown",
   "metadata": {},
   "source": [
    "Actually, `.split()` by default splits the string not only by spaces, but by whitespace characters. Such as `\\n` (new line), `\\t` (tabulation), etc."
   ]
  },
  {
   "cell_type": "code",
   "execution_count": null,
   "metadata": {},
   "outputs": [],
   "source": [
    "s = 'milk\\nchocolate\\tbread tomatoes'\n",
    "\n",
    "print(s.split()) # python splits it via all whitespaces"
   ]
  },
  {
   "cell_type": "markdown",
   "metadata": {},
   "source": [
    "Let's try with `input()` now"
   ]
  },
  {
   "cell_type": "code",
   "execution_count": null,
   "metadata": {},
   "outputs": [],
   "source": [
    "s = input('Input the shopping list: ') # type in things separated by spaces\n",
    "shopping_list = s.split()\n",
    "print(f'Shopping list: {shopping_list}')"
   ]
  },
  {
   "cell_type": "markdown",
   "metadata": {},
   "source": [
    "`.split()` method can split a string into a list by other separators as well. Let's input our shopping list separated by commas and call `.split()` with an argument `','`.  Thus Python will know that we want to use a different symbol rather than whitespaces as separator."
   ]
  },
  {
   "cell_type": "code",
   "execution_count": null,
   "metadata": {},
   "outputs": [],
   "source": [
    "s = input('Input the shopping list: ') # type in things separated by commas now\n",
    "shopping_list = s.split(',')\n",
    "print(f'Shopping list: {shopping_list}')"
   ]
  },
  {
   "cell_type": "markdown",
   "metadata": {},
   "source": [
    "We can actually get rid of `s` variable and use `.split()` directly with `input()`:"
   ]
  },
  {
   "cell_type": "code",
   "execution_count": null,
   "metadata": {},
   "outputs": [],
   "source": [
    "shopping_list = input('Input the shopping list: ').split(',')\n",
    "print(f'Shopping list: {shopping_list}')"
   ]
  },
  {
   "cell_type": "markdown",
   "metadata": {},
   "source": [
    "### How to work with the elements of the sequence?\n",
    "\n",
    "Ok, let's talk how to use indices with lists."
   ]
  },
  {
   "cell_type": "code",
   "execution_count": null,
   "metadata": {},
   "outputs": [],
   "source": [
    "# create a list for an example\n",
    "shopping_list = ['bread', 'milk', 'ice cream', 'cheese']\n",
    "print(shopping_list)"
   ]
  },
  {
   "cell_type": "markdown",
   "metadata": {},
   "source": [
    "If we look at the shopping list we can easily imagine its structure\n",
    "- bread;\n",
    "- milk;\n",
    "- ice cream;\n",
    "- cheese.\n",
    "\n",
    "We also can easily imagine numbers next to the items. The bread goes first, then milk, etc."
   ]
  },
  {
   "cell_type": "markdown",
   "metadata": {},
   "source": [
    "\n",
    "Python also sees it numbered:\n",
    "\n",
    "    [0] bread\n",
    "    [1] milk\n",
    "    [2] ice cream\n",
    "    [3] cheese\n"
   ]
  },
  {
   "cell_type": "code",
   "execution_count": null,
   "metadata": {},
   "outputs": [],
   "source": [
    "# a = [\"a\", \"b\", \"c\", \"d\", \"f\"]\n",
    "\n",
    "# Positive indexing: 0    1   2   3   4\n",
    "# Negative indexing: -5  -4  -3  -2  -1"
   ]
  },
  {
   "cell_type": "markdown",
   "metadata": {},
   "source": [
    "### List indexing\n",
    "\n",
    "Each element has its own index. It's actually the same like with strings."
   ]
  },
  {
   "cell_type": "code",
   "execution_count": null,
   "metadata": {},
   "outputs": [],
   "source": [
    "shopping_list = ['bread', 'milk', 'ice cream', 'cheese']\n",
    "s = 'Hello'\n",
    "\n",
    "print(shopping_list[3])     # print 3rd element of our list\n",
    "print(s[3])                 # print 3rd element of our string"
   ]
  },
  {
   "cell_type": "markdown",
   "metadata": {},
   "source": [
    "Let's make it more interactive asking to input an index:"
   ]
  },
  {
   "cell_type": "code",
   "execution_count": null,
   "metadata": {},
   "outputs": [],
   "source": [
    "shopping_list = ['bread', 'milk', 'ice cream', 'cheese']\n",
    "\n",
    "i = int(input('Input an index: '))\n",
    "print(shopping_list[i]) # printing an element with index i"
   ]
  },
  {
   "cell_type": "markdown",
   "metadata": {},
   "source": [
    "Remember that Python counts from zero. It is not really convinient for us — humans — to count like this, so let's correct our input for a computer by subtracting one from the index we've inputted. Now Python really gives us the first element if we ask for it."
   ]
  },
  {
   "cell_type": "code",
   "execution_count": null,
   "metadata": {},
   "outputs": [],
   "source": [
    "shopping_list = ['bread', 'milk', 'ice cream', 'cheese']\n",
    "\n",
    "i = int(input('Input an index: ')) - 1 # adjusting a human-index to a computer-index\n",
    "\n",
    "print(shopping_list[i]) # printing an element with index i"
   ]
  },
  {
   "cell_type": "markdown",
   "metadata": {},
   "source": [
    "And also like with the strings we can check the number of elements withing a list via `len()` function."
   ]
  },
  {
   "cell_type": "code",
   "execution_count": null,
   "metadata": {},
   "outputs": [],
   "source": [
    "print(len('Hello')) # returns number of symbols withing a string\n",
    "print(len(['bread', 'milk'])) # returns number of objects withing a list"
   ]
  },
  {
   "cell_type": "code",
   "execution_count": null,
   "metadata": {},
   "outputs": [],
   "source": [
    "list2 = [10, 30, 60]  # List of integers numbers\n",
    "\n",
    "list3 = [10.77, 30.66, 60.89]        # List of float numbers\n",
    "\n",
    "list4 = ['one', 'two' , \"three\"]    # List of strings\n",
    "\n",
    "list5 = ['Asif', 25 , [50, 100], [150, 90], [10, 5, [3, 5]]]    # Nested Lists\n",
    "\n",
    "list6 = [100, 'Asif', 17.765, True]      # List of mixed data types\n",
    "\n",
    "list7 = ['Asif', 25 , [50, 100], [150.1, 90.2] , {'John' , 'David'}]\n",
    "\n",
    "len(list6) # Length of list"
   ]
  },
  {
   "cell_type": "code",
   "execution_count": null,
   "metadata": {},
   "outputs": [],
   "source": [
    "print(list(list4))\n",
    "\n",
    "list4[0][0] # Nested indexing"
   ]
  },
  {
   "cell_type": "code",
   "execution_count": null,
   "metadata": {},
   "outputs": [],
   "source": [
    "list5[4][2][1]"
   ]
  },
  {
   "cell_type": "markdown",
   "metadata": {},
   "source": [
    "### Add , Remove & Change Items"
   ]
  },
  {
   "cell_type": "code",
   "execution_count": null,
   "metadata": {},
   "outputs": [],
   "source": [
    "mylist = ['one' , 'two' , 'three' , 'four' , 'five' , 'six' , 'seven' , 'eight']\n",
    "\n",
    "mylist.append('nine') # Add an item to the end of the list\n",
    "mylist"
   ]
  },
  {
   "cell_type": "code",
   "execution_count": null,
   "metadata": {},
   "outputs": [],
   "source": [
    "mylist.insert(9,'ten') # Add item at index location 9\n",
    "mylist"
   ]
  },
  {
   "cell_type": "code",
   "execution_count": null,
   "metadata": {},
   "outputs": [],
   "source": [
    "mylist.insert(1,'ONE') # Add item at index location 1\n",
    "mylist"
   ]
  },
  {
   "cell_type": "code",
   "execution_count": null,
   "metadata": {},
   "outputs": [],
   "source": [
    "mylist.remove('ONE') # Remove item \"ONE\"\n",
    "mylist"
   ]
  },
  {
   "cell_type": "code",
   "execution_count": null,
   "metadata": {},
   "outputs": [],
   "source": [
    "mylist.pop() # Remove last item of the list\n",
    "mylist"
   ]
  },
  {
   "cell_type": "code",
   "execution_count": null,
   "metadata": {},
   "outputs": [],
   "source": [
    "mylist.pop(8) # Remove item at index location 8\n",
    "mylist"
   ]
  },
  {
   "cell_type": "code",
   "execution_count": null,
   "metadata": {},
   "outputs": [],
   "source": [
    "del mylist[7] # Remove item at index location 7\n",
    "mylist"
   ]
  },
  {
   "cell_type": "code",
   "execution_count": null,
   "metadata": {},
   "outputs": [],
   "source": [
    "# Change value of the list\n",
    "mylist[0] = 1\n",
    "mylist[1] = 2\n",
    "mylist[2] = 3\n",
    "\n",
    "mylist"
   ]
  },
  {
   "cell_type": "code",
   "execution_count": null,
   "metadata": {},
   "outputs": [],
   "source": [
    "mylist.clear()    # Empty List / Delete all items in the list\n",
    "mylist"
   ]
  },
  {
   "cell_type": "code",
   "execution_count": null,
   "metadata": {},
   "outputs": [],
   "source": [
    "del mylist # Delete the whole list\n",
    "mylist"
   ]
  },
  {
   "cell_type": "markdown",
   "metadata": {},
   "source": [
    "### Copy List\n",
    "\n",
    "Be carefull during copying then manipulating the list. **Why??**!!"
   ]
  },
  {
   "cell_type": "code",
   "execution_count": null,
   "metadata": {},
   "outputs": [],
   "source": [
    "mylist = ['one', 'two', 'three', 'four', 'five', 'six', 'seven', 'eight', 'nine', 'ten']"
   ]
  },
  {
   "cell_type": "code",
   "execution_count": null,
   "metadata": {},
   "outputs": [],
   "source": [
    "mylist1 = mylist # Create a new reference \"mylist1\""
   ]
  },
  {
   "cell_type": "code",
   "execution_count": null,
   "metadata": {},
   "outputs": [],
   "source": [
    "id(mylist) , id(mylist1) # The address of both mylist & mylist1 will be the same"
   ]
  },
  {
   "cell_type": "code",
   "execution_count": null,
   "metadata": {},
   "outputs": [],
   "source": [
    "mylist2 = mylist.copy() # Create a copy of the list"
   ]
  },
  {
   "cell_type": "code",
   "execution_count": null,
   "metadata": {},
   "outputs": [],
   "source": [
    "id(mylist2) # The address of mylist2 will be different from mylist"
   ]
  },
  {
   "cell_type": "code",
   "execution_count": null,
   "metadata": {},
   "outputs": [],
   "source": [
    "mylist[0] = 1"
   ]
  },
  {
   "cell_type": "code",
   "execution_count": null,
   "metadata": {},
   "outputs": [],
   "source": [
    "mylist"
   ]
  },
  {
   "cell_type": "code",
   "execution_count": null,
   "metadata": {},
   "outputs": [],
   "source": [
    "mylist1 # mylist1 will be also impacted as it is pointing to the same list"
   ]
  },
  {
   "cell_type": "code",
   "execution_count": null,
   "metadata": {},
   "outputs": [],
   "source": [
    "mylist2 # Copy of list won't be impacted due to changes made on the original"
   ]
  },
  {
   "cell_type": "code",
   "execution_count": null,
   "metadata": {},
   "outputs": [],
   "source": []
  },
  {
   "cell_type": "code",
   "execution_count": null,
   "metadata": {},
   "outputs": [],
   "source": []
  },
  {
   "cell_type": "code",
   "execution_count": null,
   "metadata": {},
   "outputs": [],
   "source": []
  },
  {
   "cell_type": "markdown",
   "metadata": {},
   "source": [
    "# 2. Tuple"
   ]
  },
  {
   "cell_type": "markdown",
   "metadata": {},
   "source": [
    "There is another sequence type that is very similar to lists. The major difference is that we cannot change it after we've created one. Such sequence is called a **tuple**.\n",
    "\n",
    "We can create one using usual brackets instead of square ones."
   ]
  },
  {
   "cell_type": "code",
   "execution_count": null,
   "metadata": {},
   "outputs": [],
   "source": [
    "# Create an empty tuple\n",
    "tuple1 = tuple()\n",
    "type(tuple1)"
   ]
  },
  {
   "cell_type": "code",
   "execution_count": null,
   "metadata": {},
   "outputs": [],
   "source": [
    "tuple_1 = \"Oleg\",\n",
    "type(tuple_1)"
   ]
  },
  {
   "cell_type": "code",
   "execution_count": null,
   "metadata": {},
   "outputs": [],
   "source": [
    "tuple_2 = \"Oleg\", \"Maria\", \"Eva\"\n",
    "tuple_2"
   ]
  },
  {
   "cell_type": "code",
   "execution_count": null,
   "metadata": {},
   "outputs": [],
   "source": [
    "tuple_3 = (\"Oleg\", \"Maria\", \"Eva\")\n",
    "tuple_3"
   ]
  },
  {
   "cell_type": "code",
   "execution_count": null,
   "metadata": {},
   "outputs": [],
   "source": [
    "# Don't forget about the string\n",
    "temp = \"Oleg\"\n",
    "type(temp)"
   ]
  },
  {
   "cell_type": "code",
   "execution_count": null,
   "metadata": {},
   "outputs": [],
   "source": [
    "a = (1, 2, 3, 4, 5, 6)\n",
    "print(type(a))"
   ]
  },
  {
   "cell_type": "markdown",
   "metadata": {},
   "source": [
    "## 1.1 Mutable and immutable data types"
   ]
  },
  {
   "cell_type": "markdown",
   "metadata": {},
   "source": [
    "It was said that we cannot change a tuple. Let's find out what does it mean.\n",
    "\n",
    "Let's try to change an element withing a list."
   ]
  },
  {
   "cell_type": "code",
   "execution_count": null,
   "metadata": {},
   "outputs": [],
   "source": [
    "shopping_list = ['bread', 'milk', 'ice cream', 'cheese']\n",
    "\n",
    "shopping_list[2] = 'chocolate'\n",
    "\n",
    "print(shopping_list)"
   ]
  },
  {
   "cell_type": "code",
   "execution_count": null,
   "metadata": {},
   "outputs": [],
   "source": [
    "shopping_list.append(4)\n",
    "print(shopping_list)"
   ]
  },
  {
   "cell_type": "markdown",
   "metadata": {},
   "source": [
    "Now you see that we can assign a new element by a list index. Thus list is a **mutable data type**.\n",
    "\n",
    "But we cannot do the same with a tuple."
   ]
  },
  {
   "cell_type": "code",
   "execution_count": null,
   "metadata": {},
   "outputs": [],
   "source": [
    "shopping_tuple = ('bread', 'milk', 'ice cream', 'cheese')\n",
    "\n",
    "shopping_tuple[2] = 'chocolate'"
   ]
  },
  {
   "cell_type": "code",
   "execution_count": null,
   "metadata": {},
   "outputs": [],
   "source": [
    "shopping_tuple.append(4)"
   ]
  },
  {
   "cell_type": "markdown",
   "metadata": {},
   "source": [
    "Tuples are **immutable**.\n",
    "\n",
    "Another data type that is also immutable is string."
   ]
  },
  {
   "cell_type": "code",
   "execution_count": null,
   "metadata": {},
   "outputs": [],
   "source": [
    "# String is also immutable\n",
    "s = 'bread'\n",
    "s[0] = 'B'"
   ]
  },
  {
   "cell_type": "markdown",
   "metadata": {},
   "source": [
    "## 1.2 Deleting Tuple"
   ]
  },
  {
   "cell_type": "code",
   "execution_count": null,
   "metadata": {},
   "outputs": [],
   "source": [
    "del shopping_tuple[0] # Tuples are immutable which means we can't DELETE tuple items"
   ]
  },
  {
   "cell_type": "code",
   "execution_count": null,
   "metadata": {},
   "outputs": [],
   "source": [
    "del shopping_tuple # Deleting entire object is possible"
   ]
  },
  {
   "cell_type": "code",
   "execution_count": null,
   "metadata": {},
   "outputs": [],
   "source": [
    "shopping_tuple"
   ]
  },
  {
   "cell_type": "code",
   "execution_count": null,
   "metadata": {},
   "outputs": [],
   "source": [
    "shopping_tuple = ('bread', 'milk', 'ice cream', 'cheese')"
   ]
  },
  {
   "cell_type": "markdown",
   "metadata": {},
   "source": [
    "If we really want to change an element inside the tuple we can always convert it to a list, change element, and convert it back. This situation is rather exotic, but let's check how we can do something like this.\n",
    "\n",
    "`list()` function can transform a tuple to a list, and `tuple()` vice versa. It's similar to the convertion of a string `'2'` to an integer via `int()` function.\n",
    "\n",
    "Later we will see that we can use `tuple()` and `list()` to convert some data types into tuples and lists as well."
   ]
  },
  {
   "cell_type": "code",
   "execution_count": null,
   "metadata": {},
   "outputs": [],
   "source": [
    "shopping_tuple = ('bread', 'milk', 'ice cream', 'cheese')\n",
    "\n",
    "shopping_list = list(shopping_tuple) # converting tuple to list\n",
    "\n",
    "shopping_list[0] = 'pelmeni'  # replacing list's element\n",
    "\n",
    "shopping_tuple = tuple(shopping_list)   # converting list with a replaced element back to tuple\n",
    "\n",
    "print(shopping_tuple)"
   ]
  },
  {
   "cell_type": "markdown",
   "metadata": {},
   "source": [
    "So, today we have learned about **sequences**. We know two sequence-types: **list** and **tuple**. **String** is also a sequence-like data type.\n",
    "\n",
    "Also we've learned that data types can be **mutable** or **immutable**. So far we know the only **mutable** data type, it is list."
   ]
  },
  {
   "cell_type": "markdown",
   "metadata": {},
   "source": [
    "## 1.3 Unpacking: printing a sequence\n",
    "\n",
    "If we want to print a list without square brackets or a tuple without round ones we can use `*` operator within the `print()` function."
   ]
  },
  {
   "cell_type": "code",
   "execution_count": null,
   "metadata": {},
   "outputs": [],
   "source": [
    "shopping_list = ['bread', 'milk', 'ice cream', 'cheese']\n",
    "print(*shopping_list)"
   ]
  },
  {
   "cell_type": "markdown",
   "metadata": {},
   "source": [
    "Star operator before `shopping_list` makes Python see it not like a list but as several indepenedent elements. Something like `print(shopping_list[0], shopping_list[1], shopping_list[2], shopping_list[3])`.\n",
    "\n",
    "This operation is called *unpacking*. Later we will see that we can use unpacking in some other situations as well."
   ]
  },
  {
   "cell_type": "code",
   "execution_count": null,
   "metadata": {},
   "outputs": [],
   "source": [
    "shopping_list = ['bread', 'milk', 'ice cream', 'cheese']\n",
    "\n",
    "# printing our list nicely without unpacking\n",
    "print(shopping_list[0], shopping_list[1], shopping_list[2], shopping_list[3], sep=', ')\n",
    "\n",
    "# the same but shorter\n",
    "print(*shopping_list, sep=', ')"
   ]
  },
  {
   "cell_type": "markdown",
   "metadata": {},
   "source": [
    "Please note that such syntax will not work inside an f-string."
   ]
  },
  {
   "cell_type": "code",
   "execution_count": null,
   "metadata": {},
   "outputs": [],
   "source": [
    "print(f'Our shopping list {*shopping_list}')"
   ]
  },
  {
   "cell_type": "markdown",
   "metadata": {},
   "source": [
    "Same thing works with tuples as well."
   ]
  },
  {
   "cell_type": "code",
   "execution_count": null,
   "metadata": {},
   "outputs": [],
   "source": [
    "students = ('Nadya', 'Masha', 'Anya')\n",
    "print(*students, sep='; ') # print our students separated by `;`"
   ]
  },
  {
   "cell_type": "code",
   "execution_count": null,
   "metadata": {},
   "outputs": [],
   "source": [
    "# Unpacking the string by tuple\n",
    "\n",
    "tuple(\"Linguistics\")"
   ]
  },
  {
   "cell_type": "code",
   "execution_count": null,
   "metadata": {},
   "outputs": [],
   "source": [
    "# How to unpack elements from a tuple?\n",
    "my_tuple = (1, 2, 3, 4, 5)\n",
    "\n",
    "a, b, c, d, e = my_tuple\n",
    "\n",
    "print(a, b, c, d, e)"
   ]
  },
  {
   "cell_type": "code",
   "execution_count": null,
   "metadata": {},
   "outputs": [],
   "source": [
    "# What if I don't know how many variables are inside a tuple\n",
    "# But we need first and the last elements\n",
    "\n",
    "a, *b, c = my_tuple\n",
    "\n",
    "print(a, b, c)\n",
    "print(type(b))"
   ]
  },
  {
   "cell_type": "markdown",
   "metadata": {},
   "source": [
    "## 1.4 Concatenation of lists and tuples"
   ]
  },
  {
   "cell_type": "markdown",
   "metadata": {},
   "source": [
    "Remember that Python allows us to glue strings together. In a smart way it is called *concatenation*."
   ]
  },
  {
   "cell_type": "code",
   "execution_count": null,
   "metadata": {},
   "outputs": [],
   "source": [
    "a = 'Cat'\n",
    "b = 'Dog'\n",
    "print(f'Just a feline canine little - {a+b}')"
   ]
  },
  {
   "cell_type": "markdown",
   "metadata": {},
   "source": [
    "In the same way we can concatenate two lists. Let's glue together two shopping lists."
   ]
  },
  {
   "cell_type": "code",
   "execution_count": null,
   "metadata": {},
   "outputs": [],
   "source": [
    "# groceries\n",
    "shopping_list_1 = ['bread', 'milk', 'pelmeni']\n",
    "\n",
    "# household goods\n",
    "shopping_list_2 = ['washing powder', 'soap']\n",
    "\n",
    "# all purchases\n",
    "shopping_list_all = shopping_list_1 + shopping_list_2\n",
    "\n",
    "print(*shopping_list_all, sep=', ')"
   ]
  },
  {
   "cell_type": "markdown",
   "metadata": {},
   "source": [
    "The same would work with tuples."
   ]
  },
  {
   "cell_type": "code",
   "execution_count": null,
   "metadata": {},
   "outputs": [],
   "source": [
    "# groceries\n",
    "shopping_tuple_1 = ('bread', 'milk', 'pelmeni')\n",
    "\n",
    "# household goods\n",
    "shopping_tuple_2 = ('washing powder', 'soap')\n",
    "\n",
    "# all purchases\n",
    "all_ = shopping_tuple_1 + shopping_tuple_2\n",
    "print(*all_, sep=', ')"
   ]
  },
  {
   "cell_type": "code",
   "execution_count": null,
   "metadata": {},
   "outputs": [],
   "source": [
    "# Another example\n",
    "my_tuple1 = 1, 2, 3, 4\n",
    "\n",
    "my_tuple2 = (\"Oleg\", \"Maria\", \"Olga\", \"Eva\")\n",
    "\n",
    "result = my_tuple1 + my_tuple2\n",
    "\n",
    "print(result)\n",
    "\n",
    "print(type(result))"
   ]
  },
  {
   "cell_type": "markdown",
   "metadata": {},
   "source": [
    "## 1.5 Nested Tuple in Tuple"
   ]
  },
  {
   "cell_type": "code",
   "execution_count": null,
   "metadata": {},
   "outputs": [],
   "source": [
    "print(my_tuple1)\n",
    "\n",
    "print(my_tuple2)\n",
    "\n",
    "my_tuple3 = (my_tuple1, my_tuple2)\n",
    "print(f\"\\n{my_tuple3}\")\n",
    "\n",
    "print(type(my_tuple3))"
   ]
  },
  {
   "cell_type": "markdown",
   "metadata": {},
   "source": [
    "## 1.6 Nested Tuple in List"
   ]
  },
  {
   "cell_type": "code",
   "execution_count": null,
   "metadata": {},
   "outputs": [],
   "source": [
    "my_list = [(1, 2), (3, 4)]\n",
    "\n",
    "print(my_list)"
   ]
  },
  {
   "cell_type": "code",
   "execution_count": null,
   "metadata": {},
   "outputs": [],
   "source": [
    "# For list it's possible to add element\n",
    "\n",
    "my_list.append((\"Oleg\", \"Maria\"))\n",
    "\n",
    "print(my_list)"
   ]
  },
  {
   "cell_type": "markdown",
   "metadata": {},
   "source": [
    "## 1.7 Nested Lists in Tuples "
   ]
  },
  {
   "cell_type": "code",
   "execution_count": null,
   "metadata": {},
   "outputs": [],
   "source": [
    "my_tuple = ([1, 2, 3], ['a', 'b', 'c'])\n",
    "print(my_tuple)"
   ]
  },
  {
   "cell_type": "code",
   "execution_count": null,
   "metadata": {},
   "outputs": [],
   "source": [
    "# We can't change the tuple data\n",
    "# But what about the list withing the tuple??!!\n",
    "\n",
    "my_tuple[0].append(5)\n",
    "\n",
    "print(my_tuple)"
   ]
  },
  {
   "cell_type": "code",
   "execution_count": null,
   "metadata": {},
   "outputs": [],
   "source": [
    "# What about removing element??!!\n",
    "my_tuple[0].remove(2)\n",
    "\n",
    "print(my_tuple)"
   ]
  },
  {
   "cell_type": "code",
   "execution_count": null,
   "metadata": {},
   "outputs": [],
   "source": [
    "my_tuple.append([9, 8, 7])\n",
    "print(my_tuple)"
   ]
  },
  {
   "cell_type": "code",
   "execution_count": null,
   "metadata": {},
   "outputs": [],
   "source": [
    "# How to repeat an element in a tuple??\n",
    "\n",
    "temp = (\"Linguistics\",) * 4\n",
    "print(temp)\n",
    "print(type(temp))"
   ]
  },
  {
   "cell_type": "code",
   "execution_count": null,
   "metadata": {},
   "outputs": [],
   "source": [
    "temp = (\"Linguistics\",)\n",
    "\n",
    "print(temp*6)"
   ]
  },
  {
   "cell_type": "code",
   "execution_count": null,
   "metadata": {},
   "outputs": [],
   "source": [
    "print(temp)"
   ]
  },
  {
   "cell_type": "markdown",
   "metadata": {},
   "source": [
    "## 1.8 Tuple Indexing"
   ]
  },
  {
   "cell_type": "code",
   "execution_count": null,
   "metadata": {},
   "outputs": [],
   "source": [
    "tup1 = () # Empty tuple\n",
    "\n",
    "tup2 = (10, 30, 60) # tuple of integers numbers\n",
    "\n",
    "tup3 = (10.77, 30.66, 60.89) # tuple of float numbers\n",
    "\n",
    "tup4 = ('one', 'two' , \"three\")# tuple of strings\n",
    "\n",
    "tup5 = ('Asif', 25 ,(50, 100), (150, 90)) # Nested tuples\n",
    "\n",
    "tup6 = (100, 'Asif', 17.765)\n",
    "\n",
    "tup7 = ('Asif', 25 ,[50, 100], [150, 90] , {'John' , 'David'} , (99, 22, 33))\n",
    "\n",
    "len(tup7) #Length of list"
   ]
  },
  {
   "cell_type": "code",
   "execution_count": null,
   "metadata": {},
   "outputs": [],
   "source": [
    "tup2[0] # Retreive first element of the tuple"
   ]
  },
  {
   "cell_type": "code",
   "execution_count": null,
   "metadata": {},
   "outputs": [],
   "source": [
    "tup4[0][0] # Nested indexing"
   ]
  },
  {
   "cell_type": "code",
   "execution_count": null,
   "metadata": {},
   "outputs": [],
   "source": [
    "tup4[-1] # Last item of the tuple"
   ]
  },
  {
   "cell_type": "markdown",
   "metadata": {},
   "source": [
    "## 1.9 Tuple Count"
   ]
  },
  {
   "cell_type": "code",
   "execution_count": null,
   "metadata": {},
   "outputs": [],
   "source": [
    "mytuple1 = ('one', 'two', 'three', 'four', 'one', 'one', 'two', 'three')"
   ]
  },
  {
   "cell_type": "code",
   "execution_count": null,
   "metadata": {},
   "outputs": [],
   "source": [
    "mytuple1.count('one') # Number of times item \"one\" occurred in the tuple."
   ]
  },
  {
   "cell_type": "code",
   "execution_count": null,
   "metadata": {},
   "outputs": [],
   "source": [
    "mytuple1.count('four') # Occurence of item 'four' in the tuple"
   ]
  },
  {
   "cell_type": "code",
   "execution_count": null,
   "metadata": {},
   "outputs": [],
   "source": [
    "len(mytuple1)"
   ]
  },
  {
   "cell_type": "markdown",
   "metadata": {},
   "source": [
    "### Exercise\n",
    "\n",
    "Given two sorted arrays `nums1` and `nums2` of size `m` and `n` respectively, return the median of the two sorted arrays.\n",
    "\n",
    "- Example 1:\n",
    "\n",
    "  > Input: nums1 = [1,3], nums2 = [2] \n",
    "  \n",
    "  > Output: 2.00000\n",
    "  \n",
    "  > Explanation: merged array = [1,2,3] and median is 2.\n",
    "  \n",
    "- Example 2:\n",
    "\n",
    "  > Input: nums1 = [1,2], nums2 = [3,4]\n",
    "  \n",
    "  > Output: 2.50000\n",
    "  \n",
    "  > Explanation: merged array = [1,2,3,4] and median is (2 + 3) / 2 = 2.5."
   ]
  },
  {
   "cell_type": "code",
   "execution_count": null,
   "metadata": {},
   "outputs": [],
   "source": [
    "<YOUR CODE>"
   ]
  },
  {
   "cell_type": "code",
   "execution_count": null,
   "metadata": {},
   "outputs": [],
   "source": []
  },
  {
   "cell_type": "markdown",
   "metadata": {},
   "source": [
    "### Exercise\n",
    "\n",
    "**Step 1**: Create a tuple of numners from 2 to 8\n",
    "\n",
    "`\n",
    "tp1 = 2  3  4  5  6  7  8\n",
    "`\n",
    "\n",
    "**Step 2**: Create `another` tuple by adding an element to *tp1*.\n",
    "\n",
    "`\n",
    "tp2 = 2  3  4  5  6  7  8  0\n",
    "`\n",
    "\n",
    "**Step 3**: Create `another` tuple by adding the reverse of the *tp1* to *tp2*.\n",
    "\n",
    "`\n",
    "tp3 = 2  3  4  5  6  7  8  0  8  7  6  5  4  3  2\n",
    "`"
   ]
  },
  {
   "cell_type": "code",
   "execution_count": null,
   "metadata": {},
   "outputs": [],
   "source": [
    "tp1= (2,3,4,5,6,7,8)\n",
    "print(tp1)"
   ]
  },
  {
   "cell_type": "code",
   "execution_count": null,
   "metadata": {},
   "outputs": [],
   "source": [
    "tp2 = tp1 + (0,)\n",
    "print(tp2)"
   ]
  },
  {
   "cell_type": "code",
   "execution_count": null,
   "metadata": {},
   "outputs": [],
   "source": [
    "tp3 = tp1 + tp2[::-1]\n",
    "print(tp3)"
   ]
  },
  {
   "cell_type": "code",
   "execution_count": null,
   "metadata": {},
   "outputs": [],
   "source": []
  },
  {
   "cell_type": "code",
   "execution_count": null,
   "metadata": {},
   "outputs": [],
   "source": []
  },
  {
   "cell_type": "code",
   "execution_count": null,
   "metadata": {},
   "outputs": [],
   "source": []
  },
  {
   "cell_type": "markdown",
   "metadata": {},
   "source": [
    "## 3. `In` operator"
   ]
  },
  {
   "cell_type": "markdown",
   "metadata": {},
   "source": [
    "In Python we can check if something belongs to a sequence via special `in` operator. Later we will see that `in` works not only with sequences."
   ]
  },
  {
   "cell_type": "code",
   "execution_count": null,
   "metadata": {},
   "outputs": [],
   "source": [
    "backpack = ['wallet', 'headphones', 'ID', 'laptop', 'book']\n",
    "print('headphones' in backpack) # checking if string `headphones` belongs to a list `backpack`?"
   ]
  },
  {
   "cell_type": "markdown",
   "metadata": {},
   "source": [
    "`In` operator returns a boolean value depending on whether our condition is True or not. Here we are checking a condition that *something belongs to a list*.\n",
    "\n",
    "Also we can use `in` with a logical `not` to check a condition that *something does not belong to a list*."
   ]
  },
  {
   "cell_type": "code",
   "execution_count": null,
   "metadata": {},
   "outputs": [],
   "source": [
    "backpack = ['wallet', 'headphones', 'ID', 'laptop', 'book']\n",
    "print('headphones' not in backpack)   # gives us False, 'headpones' belongs to `backpack`\n",
    "print('trasportation card' not in backpack)  # gives us False, 'transportation card' is not in `backpack`"
   ]
  },
  {
   "cell_type": "markdown",
   "metadata": {},
   "source": [
    "Since `in` opeator gives us a logical variable, we can use it within an `if-statement`.\n",
    "\n",
    "A statement `if ... in` could be written like this:\n",
    "\n",
    "```python\n",
    "if <item to check> in <list, tuple or string>:\n",
    "    <instructions if an item belongs to a sequence>\n",
    "```"
   ]
  },
  {
   "cell_type": "markdown",
   "metadata": {},
   "source": [
    "Let's check an example. On our way to the university let's listen to music if we've packed headphones or read the book if we have not."
   ]
  },
  {
   "cell_type": "code",
   "execution_count": null,
   "metadata": {},
   "outputs": [],
   "source": [
    "backpack = ['wallet', 'headphones', 'ID', 'laptop', 'book']\n",
    "\n",
    "if 'headphones' in backpack:\n",
    "    print('Listen to music')\n",
    "else:\n",
    "    print('Read a book')"
   ]
  },
  {
   "cell_type": "markdown",
   "metadata": {},
   "source": [
    "A statement `if ... not in` works vice versa:\n",
    "\n",
    "```python\n",
    "if <item to check> not in <list, tuple or string>:\n",
    "    <instructions if an item does not belong to a sequence>\n",
    "```\n",
    "\n",
    "Remember our example with breakfast when we've been talking about `if statements`. Let's change it to use with lists. Now we will not ask for a number of eggs, but will check if there are eggs in our list."
   ]
  },
  {
   "cell_type": "code",
   "execution_count": null,
   "metadata": {},
   "outputs": [],
   "source": [
    "fridge = input('What do we have in the fridge?').split()\n",
    "print(fridge) # printing the things that we have\n",
    "\n",
    "if \"eggs\" not in fridge:\n",
    "    print('Going to the cafe')\n",
    "else:\n",
    "    print('Cooking at home')"
   ]
  },
  {
   "cell_type": "markdown",
   "metadata": {},
   "source": [
    "The same statements would work with tuples and strings. Let's check that an inputted word contains a particular letter."
   ]
  },
  {
   "cell_type": "code",
   "execution_count": null,
   "metadata": {},
   "outputs": [],
   "source": [
    "word = input('Input an word: ')\n",
    "letter = input('Input a letter: ')\n",
    "\n",
    "if letter not in word: # if a letter does not belong to a word\n",
    "    print(f'\"{word}\" does not contain \"{letter}\" letter')\n",
    "else:\n",
    "    print(f'\"{word}\" contains \"{letter}\" letter')"
   ]
  },
  {
   "cell_type": "markdown",
   "metadata": {},
   "source": [
    "Let's check that it works for tuples as well. Our program will check if the item is in the shopping list or not."
   ]
  },
  {
   "cell_type": "code",
   "execution_count": null,
   "metadata": {},
   "outputs": [],
   "source": [
    "shopping_tuple = ('bread', 'milk', 'pelmeni')\n",
    "thing = input('What to check? ')\n",
    "\n",
    "if thing in shopping_tuple: # if list contains this element\n",
    "    print('Didn\\'t forget!')\n",
    "else:\n",
    "    print('Forgot :(')"
   ]
  },
  {
   "cell_type": "markdown",
   "metadata": {},
   "source": [
    "Let's make it more complex. Now we will check several items until the user inputs an 'end' string."
   ]
  },
  {
   "cell_type": "code",
   "execution_count": null,
   "metadata": {},
   "outputs": [],
   "source": [
    "shopping_tuple = ('bread', 'milk', 'pelmeni')\n",
    "thing = input('What to check? ')\n",
    "while thing != 'end':  # our criteria to exit the loop\n",
    "    if thing in shopping_tuple:\n",
    "        print('Didn\\'t forget!')\n",
    "    else:\n",
    "        print('Forgot :(')\n",
    "    thing = input('What to check? ')"
   ]
  },
  {
   "cell_type": "code",
   "execution_count": null,
   "metadata": {},
   "outputs": [],
   "source": []
  }
 ],
 "metadata": {
  "colab": {
   "provenance": []
  },
  "kernelspec": {
   "display_name": "Python 3 (ipykernel)",
   "language": "python",
   "name": "python3"
  },
  "language_info": {
   "codemirror_mode": {
    "name": "ipython",
    "version": 3
   },
   "file_extension": ".py",
   "mimetype": "text/x-python",
   "name": "python",
   "nbconvert_exporter": "python",
   "pygments_lexer": "ipython3",
   "version": "3.10.9"
  }
 },
 "nbformat": 4,
 "nbformat_minor": 1
}
