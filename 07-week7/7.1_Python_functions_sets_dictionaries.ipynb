{
 "cells": [
  {
   "cell_type": "markdown",
   "metadata": {
    "id": "d8ShhvetFpA7"
   },
   "source": [
    "# Week 7.1: Functions (map, _sum, _min, _max), Sets, Dictionaries"
   ]
  },
  {
   "cell_type": "markdown",
   "metadata": {},
   "source": [
    "# 1. Functions (map, sum, min, max)\n",
    "\n",
    "\n",
    "## Adding  up elements of the lists and tuples\n",
    "\n",
    "There are some functions that are also specific to the lists and tuples. E.g. function `sum()` will sum up the elements of the list or tuple if all of them are numbers."
   ]
  },
  {
   "cell_type": "code",
   "execution_count": null,
   "metadata": {},
   "outputs": [],
   "source": [
    "print(sum([1,2,3]))     # Adding integers in our list\n",
    "print(sum((3.5,3,4)))   # Adding floats in our tuple"
   ]
  },
  {
   "cell_type": "markdown",
   "metadata": {},
   "source": [
    "## `map()` function\n",
    "\n",
    "Now imagine that we read some string representing a sequence of numbers and we want to find their sum or to do some other operations with numbers. Let's try to find out the grade point average for a student."
   ]
  },
  {
   "cell_type": "code",
   "execution_count": null,
   "metadata": {},
   "outputs": [],
   "source": [
    "marks = '10 9 8 5 6 10'.split() # converting our string to a list of digits\n",
    "print(marks)\n",
    "print(sum(marks))"
   ]
  },
  {
   "cell_type": "markdown",
   "metadata": {},
   "source": [
    "Snap! We've got an error because `sum()` works only with `integers` or `floats` and we have a list of strings. What can we do? Of course we can loop through a list and convert each string to an integer. But it looks rather redundant.\n",
    "\n",
    "We will use the function called `map()`. It takes two arguments — a fuction/a method and a sequence. `map()` is *mapping* (applying) the fucntion to all elements of the sequence.\n",
    "\n",
    "Please note, that we should pass to `map()` only the name of function without brackets (`int` instead of `int()`)."
   ]
  },
  {
   "cell_type": "code",
   "execution_count": null,
   "metadata": {},
   "outputs": [],
   "source": [
    "marks = '10 9 8 5 6 10'.split() # converting our string to a list of digits\n",
    "\n",
    "marks_int = map(int, marks)     # converting all strings to ingtegers\n",
    "\n",
    "print(marks_int)                # checking new object, looks strange!\n",
    "print(sum(marks_int))           # but with sum() works just fine!"
   ]
  },
  {
   "cell_type": "markdown",
   "metadata": {},
   "source": [
    "So, what is `<map object at 0x7fc428c94c90>` anyway?. Strictly speaking `map()` produces some specific object that is none of the data types we are familiar with. But Python can sum up its elements or loop through it just fine.\n",
    "\n",
    "However, that object has no length, so we will not be able to calculate the GPA with it. Thus, if we want to see what is inside the `map object` or if we need to perfrom some opeartions to it that are not suppoerted, we can always convert it to a list."
   ]
  },
  {
   "cell_type": "code",
   "execution_count": null,
   "metadata": {
    "scrolled": true
   },
   "outputs": [],
   "source": [
    "marks = '10 9 8 5 6 10'.split()\n",
    "marks_int_list = list(map(int, marks))         # converting result of map() to a list\n",
    "print(marks_int_list)                          # checking new object, it's a list of integers\n",
    "print(sum(marks_int_list)/len(marks_int_list)) # finally finding our GPA"
   ]
  },
  {
   "cell_type": "markdown",
   "metadata": {},
   "source": [
    "Another useful application of `map()` is to apply some method to all strings in the list. E.g. let's bring all our strings within a list to a lower case.\n",
    "\n",
    "If we want to use a method instead of function as the first argument of `map()` we have to specify to which data type it belongs. E.g. `str.lower()` is the method `.lower()` for data type `str`."
   ]
  },
  {
   "cell_type": "code",
   "execution_count": null,
   "metadata": {},
   "outputs": [],
   "source": [
    "words = 'Cat Dog Cat Parrot'.split()\n",
    "words_lower = list(map(str.lower, words))\n",
    "print(words_lower)"
   ]
  },
  {
   "cell_type": "markdown",
   "metadata": {},
   "source": [
    "## Finding miminum and maximum"
   ]
  },
  {
   "cell_type": "markdown",
   "metadata": {},
   "source": [
    "Other useful function that works with both tuples and lists are `min()` and `max()` which returns minimal or maximal value."
   ]
  },
  {
   "cell_type": "code",
   "execution_count": null,
   "metadata": {},
   "outputs": [],
   "source": [
    "numbers = [4,-9,12]\n",
    "print(f'In the list {numbers} the minimum is {min(numbers)}')\n",
    "print(f'In the list {numbers} the maximum is {max(numbers)}')"
   ]
  },
  {
   "cell_type": "markdown",
   "metadata": {},
   "source": [
    "By the way, `min()` & `max()` will work with the sequences of strings as well. They will return the 'minimum' and the 'maximum' string in Python's opition."
   ]
  },
  {
   "cell_type": "code",
   "execution_count": null,
   "metadata": {},
   "outputs": [],
   "source": [
    "s = 'abz112358'\n",
    "print(f'Minimum symbol in {s}: {min(s)}, maximum symbol is {max(s)}.')"
   ]
  },
  {
   "cell_type": "markdown",
   "metadata": {},
   "source": [
    "Why is `'z'` bigger than `'1'` we will talk in the future."
   ]
  },
  {
   "cell_type": "code",
   "execution_count": null,
   "metadata": {},
   "outputs": [],
   "source": []
  },
  {
   "cell_type": "code",
   "execution_count": null,
   "metadata": {},
   "outputs": [],
   "source": []
  },
  {
   "cell_type": "code",
   "execution_count": null,
   "metadata": {},
   "outputs": [],
   "source": []
  },
  {
   "cell_type": "markdown",
   "metadata": {},
   "source": [
    "# 2. Sets\n",
    "\n",
    "**Sets** are data structures that can contain only **unique immutable objects**. Sets in Python are actually very close to their prototypes — mathematical sets.\n",
    "\n",
    "To create a set we list objects inside the curly breakets."
   ]
  },
  {
   "cell_type": "code",
   "execution_count": null,
   "metadata": {},
   "outputs": [],
   "source": [
    "ex_list = ['cat', 'dog', 'cat'] # creating a list with []\n",
    "ex_tuple = ('cat', 'dog', 'cat') # creating a tuple with ()\n",
    "ex_set = {'cat', 'dog', 'cat'} # creating a set with {}\n",
    "\n",
    "print(ex_list)\n",
    "print(ex_tuple)\n",
    "print(ex_set) # note that we have only one 'cat' in our set"
   ]
  },
  {
   "cell_type": "markdown",
   "metadata": {},
   "source": [
    "Indeed. Even though we've tried to store two `'cat'` strings in our set, only one was added. It happened because sets can store **only unique objects**.\n",
    "\n",
    "Python data type is also called `set`. Using `set()` function without arguments we can create an empty set. We can convert list to a set by passing a list as an argument."
   ]
  },
  {
   "cell_type": "code",
   "execution_count": null,
   "metadata": {},
   "outputs": [],
   "source": [
    "empty_set = set() # creating an empty set\n",
    "example_set = set(['cat', 'dog', 'cat']) # converting a list to a set\n",
    "\n",
    "print(type(empty_set), empty_set)\n",
    "print(type(example_set), example_set)"
   ]
  },
  {
   "cell_type": "markdown",
   "metadata": {},
   "source": [
    "In the same way we can convert **strings** or **tuples** into a set."
   ]
  },
  {
   "cell_type": "code",
   "execution_count": null,
   "metadata": {},
   "outputs": [],
   "source": [
    "print(set('kitty')) # set of unique symbols from a string\n",
    "print(set(('dog', 'dog'))) # set of unique objects from a tuple"
   ]
  },
  {
   "cell_type": "markdown",
   "metadata": {},
   "source": [
    "Set can store objects of different data types but only those which are **immutable**."
   ]
  },
  {
   "cell_type": "code",
   "execution_count": null,
   "metadata": {},
   "outputs": [],
   "source": [
    "example_1 = {1, 'cat', (2,4), 4.5, False}\n",
    "print(example_1)"
   ]
  },
  {
   "cell_type": "code",
   "execution_count": null,
   "metadata": {},
   "outputs": [],
   "source": [
    "example_2 = {[4, 4], 4} # trying to create a set that contains a list"
   ]
  },
  {
   "cell_type": "markdown",
   "metadata": {},
   "source": [
    "We got an error. So far we know only two mutable data types — `list` and `set` itself. All other objects can be a part of a set."
   ]
  },
  {
   "cell_type": "markdown",
   "metadata": {},
   "source": [
    "Set is not an ordered sequence. Python has no idea which item of a set is the first and which is the last. Thus we cannot use indexing with sets."
   ]
  },
  {
   "cell_type": "code",
   "execution_count": null,
   "metadata": {},
   "outputs": [],
   "source": [
    "ex_set = {'cat', 'dog', 'cat'}\n",
    "ex_set[0]"
   ]
  },
  {
   "cell_type": "markdown",
   "metadata": {},
   "source": [
    "Error `'set' object is not subscriptable` means that indexing cannot be applied to a set. The only way to get items from a set is to loop through it."
   ]
  },
  {
   "cell_type": "code",
   "execution_count": null,
   "metadata": {},
   "outputs": [],
   "source": [
    "ex_set = {'cat', 'dog'}\n",
    "for item in ex_set: # looping through our set\n",
    "    print(item) # printing each item"
   ]
  },
  {
   "cell_type": "markdown",
   "metadata": {},
   "source": [
    "Speaking of other operations we already know, \n",
    "\n",
    "- We can compute length of a set\n",
    "- We can check if something belongs to a set or if it does not."
   ]
  },
  {
   "cell_type": "code",
   "execution_count": null,
   "metadata": {},
   "outputs": [],
   "source": [
    "ex_set = {'cat', 'dog', 'cat'}\n",
    "print(len(ex_set)) # how many items are in the set?\n",
    "print('cat' in ex_set) # does the string 'cat' belong to a set?\n",
    "print('python' in ex_set) # what about the string 'python'?"
   ]
  },
  {
   "cell_type": "markdown",
   "metadata": {},
   "source": [
    "Imagine that the teacher wants to check which marks did his students get and calculate some statistics."
   ]
  },
  {
   "cell_type": "code",
   "execution_count": null,
   "metadata": {},
   "outputs": [],
   "source": [
    "marks = [10, 10, 8, 7, 4, 5, 4, 10] # marks for 8 students\n",
    "for item in marks:\n",
    "    print('Grade:', item) # printing the mark\n",
    "    print('Count:', marks.count(item), '\\n') # printing how many students got that mark"
   ]
  },
  {
   "cell_type": "markdown",
   "metadata": {},
   "source": [
    "Ouch! The non-unique marks were printed several times. We can convert our list to set to avoid the repetition."
   ]
  },
  {
   "cell_type": "code",
   "execution_count": null,
   "metadata": {},
   "outputs": [],
   "source": [
    "marks = [10, 10, 8, 7, 4, 5, 4, 10] # list of non-unique marks\n",
    "for item in set(marks): # converting our list to a set of unique marks\n",
    "    print('Grade:', item)\n",
    "    print('Count:', marks.count(item), '\\n')"
   ]
  },
  {
   "cell_type": "markdown",
   "metadata": {},
   "source": [
    "There are two set methods that are particularly useful for us. The first one is `.add()`. It requires an argument — an item to add to a set.\n",
    "\n",
    "The second is `.remove()`. It requires an argument — an item to remove from a set."
   ]
  },
  {
   "cell_type": "code",
   "execution_count": null,
   "metadata": {},
   "outputs": [],
   "source": [
    "ex_set = {'dog', 'cat'}\n",
    "\n",
    "ex_set.add('python') # adding the string 'python' to a set\n",
    "print(ex_set)\n",
    "\n",
    "ex_set.remove('dog') # removing the stirng 'dog' from a set\n",
    "print(ex_set)"
   ]
  },
  {
   "cell_type": "markdown",
   "metadata": {},
   "source": [
    "If we were to try to remove an item that is not in the set, then we would get an error."
   ]
  },
  {
   "cell_type": "code",
   "execution_count": null,
   "metadata": {},
   "outputs": [],
   "source": [
    "ex_set = {'dog', 'cat'}\n",
    "ex_set.remove('python') # getting an error, there is no 'python' string in our set"
   ]
  },
  {
   "cell_type": "markdown",
   "metadata": {},
   "source": [
    "Let's try to solve the following problem:\n",
    "\n",
    "For a group of people we want to find all unique languages they speak. Let's input languages' names until the string `'end'` is inputted."
   ]
  },
  {
   "cell_type": "code",
   "execution_count": null,
   "metadata": {},
   "outputs": [],
   "source": [
    "language = input('Write the language name: ') # reading the first language\n",
    "languages_we_speak = set() # creating an empty set\n",
    "\n",
    "while language != 'end': # starting the loop\n",
    "    languages_we_speak.add(language) # adding read language to a set\n",
    "    language = input('Write the language name: ') # reading new string\n",
    "\n",
    "print('\\nWe speak:')\n",
    "print(*languages_we_speak, sep=', ') # outputting all the unique languages we speak"
   ]
  },
  {
   "cell_type": "markdown",
   "metadata": {},
   "source": [
    "# Set operations\n",
    "\n",
    "![](https://github.com/rogovich/Data/blob/master/img/eiler_1_eng.png?raw=true)"
   ]
  },
  {
   "cell_type": "markdown",
   "metadata": {},
   "source": [
    "If you've ever encountered the sets before than such diagram should be familiar to you. It is called **Euler diagram**. In such diagram circles are used to represent different sets and relations between them.\n",
    "\n",
    "Let's start with an example. Imagine that you and your friend are roommates. And you are considering to take in a pet. So there is a set of pets that you like (`my_pets_list` variable, green + blue areas on the graph): chinchilla, cat, fish, and grass snake. And there is a set of pets that your friend like (`friend_pets_list`, orange + blue areas on the graph): cat, grass snake, dog, python, and chameleon.\n",
    "\n",
    "So on our diagram the blue area is an **intersection** of those two sets — pets that both of you like (cats and grass snakes). Let's find an intersection of two sets via Python. We use an operator `&` for it.\n",
    "\n",
    "For all sets' operations the result would be also a set. You can always save it to a variable if there is a need."
   ]
  },
  {
   "cell_type": "code",
   "execution_count": null,
   "metadata": {},
   "outputs": [],
   "source": [
    "my_pets_set = {'chinchilla', 'fish', 'grass snake', 'cat'}\n",
    "friend_pets_set = {'grass snake', 'cat', 'python', 'chameleon', 'dog'}\n",
    "print(my_pets_set & friend_pets_set) # intersection, blue area on the diagram"
   ]
  },
  {
   "cell_type": "markdown",
   "metadata": {},
   "source": [
    "Then we can find a **union** — a set of pets that *at least one of you likes*. So those pets either belong to your set or your friend's set. In Python to find a union we use an operator `|`."
   ]
  },
  {
   "cell_type": "code",
   "execution_count": null,
   "metadata": {},
   "outputs": [],
   "source": [
    "print(my_pets_set | friend_pets_set) # union, green + blue + orange areas on the diagram"
   ]
  },
  {
   "cell_type": "markdown",
   "metadata": {},
   "source": [
    "For the union and intesection it does not matter the order in which you are passing your sets, the result would be the same. But it would matter for a **difference**. Difference is a way to find animals that you like and your friend does not like, and vice versa.\n",
    "\n",
    "To find a difference we us an `-` operator. And please pay attention to set's order."
   ]
  },
  {
   "cell_type": "code",
   "execution_count": null,
   "metadata": {},
   "outputs": [],
   "source": [
    "# difference, pets that I like and my friend's does not like, green area on the diagram\n",
    "print(my_pets_set - friend_pets_set)\n",
    "\n",
    "# difference, pets that my friend like and I don't like, orange area on the diagram\n",
    "print(friend_pets_set - my_pets_set)"
   ]
  },
  {
   "cell_type": "markdown",
   "metadata": {},
   "source": [
    "Sometimes it would be useful to find a **symmetric difference** — objects that belong only to one of the sets. Or in other words, *objects that do not belong to an intersection of sets*."
   ]
  },
  {
   "cell_type": "code",
   "execution_count": null,
   "metadata": {},
   "outputs": [],
   "source": [
    "print(friend_pets_set ^ my_pets_set) # symmetric difference, green + orange areas on a chart"
   ]
  },
  {
   "cell_type": "markdown",
   "metadata": {},
   "source": [
    "Also we can perfrom several set operations in a row. But keep in mind that they are executed from **left to right**, and we have to control the order of operations via brackets.\n",
    "\n",
    "E.g. symmetric difference in other words is a difference between a union of two sets and its intersection. Let's compute it in this way."
   ]
  },
  {
   "cell_type": "code",
   "execution_count": null,
   "metadata": {
    "scrolled": true
   },
   "outputs": [],
   "source": [
    "print(my_pets_set | friend_pets_set - my_pets_set & friend_pets_set)"
   ]
  },
  {
   "cell_type": "markdown",
   "metadata": {},
   "source": [
    "The result does not look like the result of the operation above. \n",
    "\n",
    "It happened because Python \n",
    "- (1) the difference between `frind_pets_list` and `mey_pets_list`, \n",
    "- (2) found the intersection of the (1) and `frind_pets_list`, \n",
    "- (3) union will be calculated between the result of (2) and `my_pets_list`. \n",
    "\n",
    "Doesn't look like the thing we wanted. Let's help Python by putting brackets around operations we want to be performed first:"
   ]
  },
  {
   "cell_type": "code",
   "execution_count": null,
   "metadata": {},
   "outputs": [],
   "source": [
    "print((my_pets_set | friend_pets_set) - (my_pets_set & friend_pets_set)) # union - intersection"
   ]
  },
  {
   "cell_type": "markdown",
   "metadata": {},
   "source": [
    "Now we've found the symmetric difference."
   ]
  },
  {
   "cell_type": "code",
   "execution_count": null,
   "metadata": {},
   "outputs": [],
   "source": []
  },
  {
   "cell_type": "code",
   "execution_count": null,
   "metadata": {},
   "outputs": [],
   "source": []
  },
  {
   "cell_type": "code",
   "execution_count": null,
   "metadata": {},
   "outputs": [],
   "source": []
  },
  {
   "cell_type": "markdown",
   "metadata": {},
   "source": [
    "# 3. Dictionaries\n",
    "\n",
    "It's often convenient to store objects in pairs. In such manner we store a word and its translation in a dictionary; a name and a phone number in a contact book, etc. We have such a data type in Python which will help us to store things in a similair manner. It's called **dictionary**.\n",
    "\n",
    "To create a dictionary we use curly brackets, but we list **not single objects**, but **pairs of objects**."
   ]
  },
  {
   "cell_type": "code",
   "execution_count": null,
   "metadata": {},
   "outputs": [],
   "source": [
    "d = {'apple': 'fruit' , 'hello': 'word'}\n",
    "print(d)\n",
    "print(type(d))"
   ]
  },
  {
   "cell_type": "markdown",
   "metadata": {},
   "source": [
    "We see that Python indeed stores items together. *Pairs in dictionary are divided by commas, and objects within pairs are divided by colons.*\n",
    "\n",
    "In the same way as sets, dictionaries are *unordered collections of objects*. Meaning we cannot use indexing."
   ]
  },
  {
   "cell_type": "code",
   "execution_count": null,
   "metadata": {},
   "outputs": [],
   "source": [
    "d[0] # produces an error"
   ]
  },
  {
   "cell_type": "markdown",
   "metadata": {},
   "source": [
    "But in contrast to sets, there is a way to get an item out of a dictionary. Actually, those pairs of objects are called `key:value` pairs, where the `key` part (object that goes BEFORE the colon) plays a similiar role to an index in a list or a string. Imagine that we do not simply store objects (`values`, objects that go AFTER the colon) within a dictionary, but labeling them."
   ]
  },
  {
   "cell_type": "code",
   "execution_count": null,
   "metadata": {},
   "outputs": [],
   "source": [
    "d = {'apple': 'fruit' , 'hello': 'world'}\n",
    "print(d['apple']) # give me an item stored under the label 'apple'\n",
    "print(d['hello']) # give me an item stored under the label 'hello'"
   ]
  },
  {
   "cell_type": "markdown",
   "metadata": {},
   "source": [
    "So it seems that if we know the `key` we can call the `value`. Will it work other way around?"
   ]
  },
  {
   "cell_type": "code",
   "execution_count": null,
   "metadata": {},
   "outputs": [],
   "source": [
    "print(d['fruit']) # it will produce an error since 'fruit' is not a key"
   ]
  },
  {
   "cell_type": "markdown",
   "metadata": {},
   "source": [
    "Thus we see that `keys` and `values` behave a bit differently and here come their features.\n",
    "\n",
    "* `Keys` can be only immutable objects. A **list, a set, or a dictionary** cannot be a key. But anything can be a `value`. In the future we will use a lot of dictionaries, where `values` are the lists.\n",
    "* `Keys` can be only unique whereas the `values` can be non-unique."
   ]
  },
  {
   "cell_type": "code",
   "execution_count": null,
   "metadata": {},
   "outputs": [],
   "source": [
    "example_d = {'cat':'str', 1:'int', False:'bool', (7,8):'tuple', 'dog':'str'}\n",
    "\n",
    "print(example_d) # different data types act as keys, also note that the value 'str' are repeated twice"
   ]
  },
  {
   "cell_type": "markdown",
   "metadata": {},
   "source": [
    "To create a new `key:value` pair we call the key from a dictionary and assign a value to it in the same manner as we've been assigning things to variables."
   ]
  },
  {
   "cell_type": "code",
   "execution_count": null,
   "metadata": {},
   "outputs": [],
   "source": [
    "d = {'apple': 'fruit' , 'hello': 'word'}\n",
    "d['python'] = 'programming language' # creating a new key:value pair\n",
    "print(d) # checking our dictionary"
   ]
  },
  {
   "cell_type": "markdown",
   "metadata": {},
   "source": [
    "What will happen if we decide to assign a new value to a key that already exists in a dictionary? \n",
    "\n",
    "Since keys can be only unique it will not create a new pair of objects but rather will rewrite the value assigned to that key."
   ]
  },
  {
   "cell_type": "code",
   "execution_count": null,
   "metadata": {},
   "outputs": [],
   "source": [
    "d['hello'] = 'greeting'\n",
    "print(d) # value assigned to the key 'hello' changed to 'greeting'"
   ]
  },
  {
   "cell_type": "markdown",
   "metadata": {},
   "source": [
    "If we ever need to remove `key:value` pair from a dictionary, we can do it like this:"
   ]
  },
  {
   "cell_type": "code",
   "execution_count": null,
   "metadata": {},
   "outputs": [],
   "source": [
    "del d['hello'] # this will delete pair 'hello': 'greeting' from a dictionary d\n",
    "print(d)"
   ]
  },
  {
   "cell_type": "markdown",
   "metadata": {},
   "source": [
    "# How to create a dictionary?"
   ]
  },
  {
   "cell_type": "markdown",
   "metadata": {},
   "source": [
    "Here are some situations when it is convenient to use a dictionary.\n",
    "Imagine that we have two lists corresponding to each other: list with students names and their GPA. It would be more convenient to store such data as a dictionary where keys would be students names and values — GPAs."
   ]
  },
  {
   "cell_type": "code",
   "execution_count": null,
   "metadata": {},
   "outputs": [],
   "source": [
    "students = ['Anna', 'Li', 'Tanaka']\n",
    "gpa = [8.9, 9.2, 7.8]\n",
    "\n",
    "grades = {} # creating an empty dictionary\n",
    "for i in range(len(students)):\n",
    "    grades[students[i]] = gpa[i] # for each student creating a key within a dictionary and assigning a corresponding GPA to it\n",
    "\n",
    "print(grades)"
   ]
  },
  {
   "cell_type": "markdown",
   "metadata": {},
   "source": [
    "The second case that you would encounter often would be the situation when you are reading strings into a dictionary. Imagine that we again have the students and their GPAs, but now we don't know how many students are there and we read information line by line, written for each student in a format '{NAME} - {GPA}'."
   ]
  },
  {
   "cell_type": "code",
   "execution_count": null,
   "metadata": {},
   "outputs": [],
   "source": [
    "grades = {} # creating an empty dictionary\n",
    "\n",
    "student = input('Input the student Name - GPA:')\n",
    "while student != 'end':\n",
    "    key = student.split(' - ')[0] # assigning the first part of a string to the `key` variable\n",
    "    value = float(student.split(' - ')[1]) # assigning the second part of a string to the `value` variable\n",
    "    grades[key] = value # creating a key:value pair for that student in our dictionary\n",
    "    student = input('Input the student Name - GPA:')\n",
    "\n",
    "print(grades)"
   ]
  },
  {
   "cell_type": "markdown",
   "metadata": {},
   "source": [
    "# Operations with dictionaries\n",
    "\n",
    "We can perform many operations that we already know to a dictionary. E.g. we can check the length of a dictionary. Here the length would be the number of `key:value` pairs."
   ]
  },
  {
   "cell_type": "code",
   "execution_count": null,
   "metadata": {},
   "outputs": [],
   "source": [
    "grades = {'Anna': 8.9, 'Li': 9.2, 'Tanaka': 7.8}\n",
    "print(len(grades)) # there three `key:value` pairs in our dictionary"
   ]
  },
  {
   "cell_type": "markdown",
   "metadata": {},
   "source": [
    "We can also check if something belongs to a dictionary via `in` operator. But be careful, here we can check only if something belongs to the **keys** of a dictionary."
   ]
  },
  {
   "cell_type": "code",
   "execution_count": null,
   "metadata": {},
   "outputs": [],
   "source": [
    "print('Anna' in grades) # True since 'Anna' is among the keys of a dictionary\n",
    "print(8.9 in grades) # False since `in` not checking the values"
   ]
  },
  {
   "cell_type": "markdown",
   "metadata": {},
   "source": [
    "If we want to check that something belongs to the values of a dictionary, we should use method `.values()` that produces list-like object of all values in that dictionary. There is also the method `.keys()` that works in a similiar manner, but we use it less often."
   ]
  },
  {
   "cell_type": "code",
   "execution_count": null,
   "metadata": {},
   "outputs": [],
   "source": [
    "print(grades.keys()) # all keys of our dictionary\n",
    "print(grades.values()) # all values of our dictionary"
   ]
  },
  {
   "cell_type": "code",
   "execution_count": null,
   "metadata": {},
   "outputs": [],
   "source": [
    "print(8.9 in grades) # False since 8.9 is not among the keys of `grades`\n",
    "print(8.9 in grades.keys()) # Basically does the same as the line above\n",
    "print(8.9 in grades.values()) # True since 8.9 actually belongs to the values of `grades`"
   ]
  },
  {
   "cell_type": "markdown",
   "metadata": {},
   "source": [
    "Imagine that we have an English-Russian dictionary stored as a Python dictionary, where the words in English are keys and the words in Russian are values. The code below is checking whether the inputted word is in English (belongs to the keys of our dictionary), in Russian (belongs to the values of our dictionary), or does not belong to a dictionary at all."
   ]
  },
  {
   "cell_type": "code",
   "execution_count": null,
   "metadata": {},
   "outputs": [],
   "source": [
    "eng_rus = {'apple': 'яблоко', 'hello': 'привет', 'python': 'питон', 'mouse': 'мышь'}\n",
    "\n",
    "print(eng_rus.keys())\n",
    "print(eng_rus.values())\n",
    "\n",
    "word = input('Write a word to check: ')\n",
    "\n",
    "if word in eng_rus: # if the word is among the keys\n",
    "    print('The word is in English:', word) # print that it is an English word\n",
    "    \n",
    "elif word in eng_rus.values(): # if the word is among the values\n",
    "    print('The word is in Russian:', word) # print that it is a Russian word\n",
    "    \n",
    "else: # if there is no such word in our dictionary\n",
    "    print('There is no such word in our dictionary.') # print that we don't have it"
   ]
  },
  {
   "cell_type": "markdown",
   "metadata": {},
   "source": [
    "We also can loop through our dictionary, but note that Python will go through all the keys."
   ]
  },
  {
   "cell_type": "code",
   "execution_count": null,
   "metadata": {},
   "outputs": [],
   "source": [
    "grades = {'Anna': 8.9, 'Li': 9.2, 'Tanaka': 7.8}\n",
    "\n",
    "for key in grades:\n",
    "    print(key) # this will print only student names"
   ]
  },
  {
   "cell_type": "markdown",
   "metadata": {},
   "source": [
    "However, it is easy to get values as well. We just need to call it within the loop."
   ]
  },
  {
   "cell_type": "code",
   "execution_count": null,
   "metadata": {},
   "outputs": [],
   "source": [
    "grades = {'Anna': 8.9, 'Li': 9.2, 'Tanaka': 7.8}\n",
    "\n",
    "for key in grades:\n",
    "    print('Name:', key)\n",
    "    print('Grade:', grades[key]) # printing the grade assigned to the name in the `key` variable\n",
    "    print('*'*10 + '\\n') # printing 10 starts to separate one student from the next"
   ]
  },
  {
   "cell_type": "markdown",
   "metadata": {},
   "source": [
    "Now let's add the condition. Let's print info only for those students, whose GPA is higher or equal to 8."
   ]
  },
  {
   "cell_type": "code",
   "execution_count": null,
   "metadata": {},
   "outputs": [],
   "source": [
    "grades = {'Anna': 8.9, 'Li': 9.2, 'Tanaka': 7.8}\n",
    "\n",
    "for key  in grades:\n",
    "    if grades[key] >= 8: # checking GPA\n",
    "        print('Name:', key)\n",
    "        print('Grade:', grades[key])\n",
    "        print('*'*10 + '\\n')"
   ]
  },
  {
   "cell_type": "markdown",
   "metadata": {},
   "source": [
    "Let's go back to our ENG-RUS dictionary example and now we will print the translation of the word to Russian if it was in English or to English if it was in Russian."
   ]
  },
  {
   "cell_type": "code",
   "execution_count": null,
   "metadata": {},
   "outputs": [],
   "source": [
    "eng_rus = {'apple': 'яблоко', 'hello': 'привет', 'python': 'питон', 'mouse': 'мышь'}\n",
    "\n",
    "word = input('Write a word: ') # which word to check?\n",
    "\n",
    "if word in eng_rus:            # if the word is among the keys\n",
    "    print(eng_rus[word])       # print the value assigned to it\n",
    "    \n",
    "elif word in eng_rus.values(): # if the word is among the values\n",
    "    for item in eng_rus:       # go through each key then\n",
    "        if eng_rus[item] == word: # and compare its' value to an inputted word\n",
    "            print(item) # if it is the same, then print the key to which that value is assigned\n",
    "            \n",
    "else:        # if there is no such word among both the keys and the values\n",
    "    print('No such word in the dictionary') # then print that we don't have it"
   ]
  },
  {
   "cell_type": "markdown",
   "metadata": {},
   "source": [
    "What if we want to extract both `keys` and `values` from the dictionary?\n",
    "\n",
    "We can use the function `.items()`"
   ]
  },
  {
   "cell_type": "code",
   "execution_count": null,
   "metadata": {},
   "outputs": [],
   "source": [
    "eng_rus = {'apple': 'яблоко', 'hello': 'привет', 'python': 'питон', 'mouse': 'мышь'}\n",
    "\n",
    "for key, value in eng_rus.items():\n",
    "    print(f'The key is: {key}')\n",
    "    print(f'Its value is: {value}')\n",
    "    print('\\n')"
   ]
  },
  {
   "cell_type": "code",
   "execution_count": null,
   "metadata": {},
   "outputs": [],
   "source": []
  }
 ],
 "metadata": {
  "colab": {
   "provenance": []
  },
  "kernelspec": {
   "display_name": "Python 3 (ipykernel)",
   "language": "python",
   "name": "python3"
  },
  "language_info": {
   "codemirror_mode": {
    "name": "ipython",
    "version": 3
   },
   "file_extension": ".py",
   "mimetype": "text/x-python",
   "name": "python",
   "nbconvert_exporter": "python",
   "pygments_lexer": "ipython3",
   "version": "3.10.9"
  }
 },
 "nbformat": 4,
 "nbformat_minor": 1
}
