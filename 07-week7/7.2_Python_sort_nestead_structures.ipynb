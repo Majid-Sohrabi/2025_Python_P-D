{
 "cells": [
  {
   "cell_type": "markdown",
   "metadata": {
    "id": "d8ShhvetFpA7"
   },
   "source": [
    "# Week 7.2: Sorted(), Nestead list/dictionaries"
   ]
  },
  {
   "cell_type": "markdown",
   "metadata": {},
   "source": [
    "# 1. Sorting in Python\n",
    "\n",
    "We often have a need to sort different things: numbers in ascending order, words in alphabetical order, etc. And it's only natural that in Python there is a function that can perform sorting. The function's name is `sorted()`."
   ]
  },
  {
   "cell_type": "code",
   "execution_count": null,
   "metadata": {},
   "outputs": [],
   "source": [
    "marks = [8.4, 9, 10, 4, 5]\n",
    "print(sorted(marks))"
   ]
  },
  {
   "cell_type": "markdown",
   "metadata": {},
   "source": [
    "As you see, we've passed a list with numbers `marks` to the function `sorted()` and got the list of sorted numbers in ascending order.\n",
    "\n",
    "If we want to sort something in descending order, then we should assign `True` to a `reverse` parameter of `sorted()` function."
   ]
  },
  {
   "cell_type": "code",
   "execution_count": null,
   "metadata": {},
   "outputs": [],
   "source": [
    "print(sorted(marks, reverse=True)) # sorting our list in descending order"
   ]
  },
  {
   "cell_type": "markdown",
   "metadata": {},
   "source": [
    "In the previous example we've sorted a list. However, we can also sort **sets**, **tuples**, and even **dictionaries**. But note, that no matter the datatype we sort, `sorted()` will **always return a list**."
   ]
  },
  {
   "cell_type": "code",
   "execution_count": null,
   "metadata": {},
   "outputs": [],
   "source": [
    "# sorted() always returns a list!\n",
    "print(sorted('tanya')) # got a list of sorted symbols\n",
    "print(sorted((8, 5, 2)))\n",
    "print(sorted({5, 7, 2}))\n",
    "print(sorted({'cat':4, 'dog':100})) # here we got the list of sorted dictionary's keys"
   ]
  },
  {
   "cell_type": "markdown",
   "metadata": {},
   "source": [
    "We've just seen that `sorted()` can also sort symbols and they appear in the alphabetical order. But how Python knows what is alphabetical order?"
   ]
  },
  {
   "cell_type": "code",
   "execution_count": null,
   "metadata": {},
   "outputs": [],
   "source": [
    "print(sorted(['python', 'dog', 'parrot'])) # sorting only-letters strings in lower case\n",
    "print(sorted(['!','Python', '4', 'anaconda'])) # sorting diffirent strings + mixed case"
   ]
  },
  {
   "cell_type": "markdown",
   "metadata": {},
   "source": [
    "Actually, Python has no idea what is an alphabet. But Python has an access to the code chart. Let's have a look at [ASCII](https://en.wikipedia.org/wiki/ASCII) code chart below. It is a code chart that consists of 128 most popular symbols and latin letters — most of them you can find on your keyboard. Many other code charts (e.g. [Unicode](https://en.wikipedia.org/wiki/UTF-8) that must be familiar to you) are extensions of ASCII chart. And the logic described below would apply to all those as well.  \n",
    "\n",
    "<img src=\"https://upload.wikimedia.org/wikipedia/commons/thumb/4/4f/ASCII_Code_Chart.svg/369px-ASCII_Code_Chart.svg.png\" alt=\"Alt text\" width=\"500\"/>\n",
    "\n",
    "If you look at chart you will notice that symbols are placed one after another — from left to right, line by line. So Python has no idea about alphabet, but it rather looks for the symbol position in the code chart. If the first symbol of the string appears there earlier than the first symbol of the other string, then the former is sorted in front of the latter. If  the symbols are the same, Python compares the second ones, etc.\n",
    "\n",
    "Let's sort another list of mixed strings. Check positions of the symbols in the chart above to see why Python sorted the strings this way."
   ]
  },
  {
   "cell_type": "code",
   "execution_count": null,
   "metadata": {},
   "outputs": [],
   "source": [
    "print(sorted(['python', 'dog', 'parrot', '2', '[', 'Parrot', '!', '|', '{']))"
   ]
  },
  {
   "cell_type": "markdown",
   "metadata": {},
   "source": [
    "## `key` parameter"
   ]
  },
  {
   "cell_type": "markdown",
   "metadata": {},
   "source": [
    "The most problematic thing when sorting strings is that all capital case symbols go before lower-case in those code charts. Meaning that Python will always sort words starting with an upper-case letter in front of those starting with lower-case letters."
   ]
  },
  {
   "cell_type": "code",
   "execution_count": null,
   "metadata": {},
   "outputs": [],
   "source": [
    "print(sorted(['ivanov', 'Romanova', 'aramov', 'Lebedeva']))"
   ]
  },
  {
   "cell_type": "markdown",
   "metadata": {},
   "source": [
    "It could be sometimes problematic when we doing some kind of text analysis. \n",
    "\n",
    "However, there are ways to deal with it. First, we can bring all our strings to lower case with a help of `map()` or `.lower()` and then sort that object."
   ]
  },
  {
   "cell_type": "code",
   "execution_count": null,
   "metadata": {},
   "outputs": [],
   "source": [
    "students = ['ivanov', 'Romanova', 'aramov', 'Lebedeva']\n",
    "print(sorted(map(str.lower, students)))"
   ]
  },
  {
   "cell_type": "markdown",
   "metadata": {},
   "source": [
    "However, in that case we've lost the upper-case. And often it is an important information. In Python there is a way to sort mixed-case strings disregarding the case. Let's use for it `key` parameter of `sorted()`."
   ]
  },
  {
   "cell_type": "code",
   "execution_count": null,
   "metadata": {},
   "outputs": [],
   "source": [
    "print(sorted(students, key=str.lower))"
   ]
  },
  {
   "cell_type": "markdown",
   "metadata": {},
   "source": [
    "Indeed, Python has sorted our strings not case-sensetive, but preserved the case. How did it happen? You see, one assigns a function to `key` parameter. Then Python will apply that function to all elements of your collection and remebers the correspondence between the original objects and the changed objects. Then it will sort the changed objects, but as a final result will give you a list of the correspondent ORIGINAL objects sorted in that order. Uuhhh, sounds complicated! But bear with me.\n",
    "\n",
    "In our example Python brought all the strings to lower case, then sorted those lower-case strings and then gave us the list of original strings sorted in that order.\n",
    "\n",
    "Let's check another example where `key` might be useful. Imagine that you read a sequence of dates and you have to print them in chronological order."
   ]
  },
  {
   "cell_type": "code",
   "execution_count": null,
   "metadata": {},
   "outputs": [],
   "source": [
    "dates = ['1', '8', '11', '20', '24', '2']\n",
    "print(*sorted(dates))"
   ]
  },
  {
   "cell_type": "markdown",
   "metadata": {},
   "source": [
    "Oops, looks not exactly correct. Since our dates are strings, Python sorted them as strings according to the code chart. And the word '20' goes before '8', since '2' appears earlier than '8' in that chart. \n",
    "\n",
    "To solve the problem correctly you should either convert all strings to numbers before sorting or you can use `key` parameter with `int` function!"
   ]
  },
  {
   "cell_type": "code",
   "execution_count": null,
   "metadata": {},
   "outputs": [],
   "source": [
    "dates = ['1', '8', '11', '20', '24', '2']\n",
    "\n",
    "# both lines of code below produce the similiar result\n",
    "print(*sorted(map(int, dates)))\n",
    "print(*sorted(dates, key=int))"
   ]
  },
  {
   "cell_type": "markdown",
   "metadata": {},
   "source": [
    "Also `key` works for `min()` and `max()` functions. We are already familiar with those."
   ]
  },
  {
   "cell_type": "code",
   "execution_count": null,
   "metadata": {},
   "outputs": [],
   "source": [
    "students = ['ivanov', 'Romanova', 'aramov', 'Lebedeva']\n",
    "print(min(students)) # among 'L', 'R', 'a' and 'i', capital 'L' is the earliest symbol\n",
    "print(min(students, key=str.lower) + '\\n') # among 'l', 'r', 'a' and 'i', lower case 'a' is the earliest symbol\n",
    "print(max(students)) # among 'L', 'R', 'a' and 'i', lower 'i' is the latest symbol\n",
    "print(max(students, key=str.lower)) # among 'l', 'r', 'a' and 'i', lower 'r'\n",
    "                                    # is the latest symbol, originial string is returned"
   ]
  },
  {
   "cell_type": "markdown",
   "metadata": {},
   "source": [
    "## Sorting dictionaries\n",
    "\n",
    "Things become a bit tricky when it comes to the sorting of dictionaries. Imagine that we have a dictionary where the keys are students surnames and the values are their marks. Let's sort our dictionary."
   ]
  },
  {
   "cell_type": "code",
   "execution_count": null,
   "metadata": {},
   "outputs": [],
   "source": [
    "marks = {'Romanova': 8, 'Kim': 7, 'Suzuki': 9, 'Ivanov': 9}\n",
    "print(sorted(marks))"
   ]
  },
  {
   "cell_type": "markdown",
   "metadata": {},
   "source": [
    "When we sort a dictionary we get a sorted list of **keys**. Meaning if we want to work with our dictionary sorted according the order of keys (numerical of alphabetical), it is very easy to implement. Let's print surnames of our students in alphabetical order as well as their corresponding grades."
   ]
  },
  {
   "cell_type": "code",
   "execution_count": null,
   "metadata": {},
   "outputs": [],
   "source": [
    "for key in sorted(marks): # looping through the sorted list of dictionary's keys\n",
    "    print(key, marks[key]) # printing the key and the corresponding value"
   ]
  },
  {
   "cell_type": "markdown",
   "metadata": {},
   "source": [
    "You see? Easy! But how can we sort our dictionary according to the values? \n",
    "\n",
    "Actually there is no simple way to do it. However, it is possible. \n",
    "\n",
    "Remember, there is a method of the dictionary called `.values()` that returns us the list-like object of all dictionary values? It can be sorted!"
   ]
  },
  {
   "cell_type": "code",
   "execution_count": null,
   "metadata": {},
   "outputs": [],
   "source": [
    "print(marks.values()) # all values of our dictionary\n",
    "print(sorted(marks.values())) # list of sorted values"
   ]
  },
  {
   "cell_type": "markdown",
   "metadata": {},
   "source": [
    "Great! We've got a list of sorted values. Now the tricky part. We can loop through that sorted list, but then what?"
   ]
  },
  {
   "cell_type": "code",
   "execution_count": null,
   "metadata": {},
   "outputs": [],
   "source": [
    "for value in sorted(marks.values()):\n",
    "    print(value)"
   ]
  },
  {
   "cell_type": "markdown",
   "metadata": {},
   "source": [
    "Actually, for each value we can start the second loop. We can go through all keys of our dictionary and check whether the value corresponding to that key is the same that we are intersted in. \n",
    "\n",
    "Mind that this double-loop algorithm is not always the best practice when it comes to a big data since it executes A LOT OF operations. But for small cases it is just fine."
   ]
  },
  {
   "cell_type": "code",
   "execution_count": null,
   "metadata": {},
   "outputs": [],
   "source": [
    "for value in sorted(marks.values()):\n",
    "    print(value)\n",
    "    \n",
    "    for key in marks: # starting the nested loop\n",
    "        if marks[key] == value: # if the key's value matches the value of interest\n",
    "            print(key) # then print the key"
   ]
  },
  {
   "cell_type": "markdown",
   "metadata": {},
   "source": [
    "Works almost fine. What is left is to get rid of the repeating information for people that got 9s. It was output twice because we got two similiar values in our dictionary. Let's get rid of all not unique values by converting the object with values into a set before sorting."
   ]
  },
  {
   "cell_type": "code",
   "execution_count": null,
   "metadata": {},
   "outputs": [],
   "source": [
    "for value in sorted(set(marks.values())): # converting marks.values() to a set\n",
    "    print(value)\n",
    "    for key in marks:\n",
    "        if marks[key] == value:\n",
    "            print(key)"
   ]
  },
  {
   "cell_type": "markdown",
   "metadata": {},
   "source": [
    "And the final touch. What if we want surnames of people who got the same grade to be sorted in alphabetical order? We can loop through the sorted dictionary then!"
   ]
  },
  {
   "cell_type": "code",
   "execution_count": null,
   "metadata": {},
   "outputs": [],
   "source": [
    "for value in sorted(set(marks.values())):\n",
    "    print(value)\n",
    "    for key in sorted(marks): # looping throught the sorted list of keys\n",
    "        if marks[key] == value:\n",
    "            print(key)"
   ]
  },
  {
   "cell_type": "markdown",
   "metadata": {},
   "source": [
    "Now it's perfect! By the way, in the similiar manner we can find keys corresponding to the minimum or to the maximum value in the dictionary."
   ]
  },
  {
   "cell_type": "code",
   "execution_count": null,
   "metadata": {},
   "outputs": [],
   "source": [
    "max_mark = max(marks.values()) # finding the highest mark\n",
    "\n",
    "print(f'The highest grade is {max_mark}')\n",
    "print('Students who got the highest grade:')\n",
    "for key in sorted(marks):\n",
    "    if marks[key] == max_mark:\n",
    "        print(key)"
   ]
  },
  {
   "cell_type": "code",
   "execution_count": null,
   "metadata": {},
   "outputs": [],
   "source": []
  },
  {
   "cell_type": "code",
   "execution_count": null,
   "metadata": {},
   "outputs": [],
   "source": []
  },
  {
   "cell_type": "code",
   "execution_count": null,
   "metadata": {},
   "outputs": [],
   "source": []
  },
  {
   "cell_type": "markdown",
   "metadata": {},
   "source": [
    "# 2. Neasted Structures\n",
    "\n",
    "Nested structures are not new data types. Those are just more complex structures than those that we've used already. Usually we call nested structures the lists of lists, dictionaries where the values are the lists or the sets, etc.\n",
    "\n",
    "## 2.1 Nested Lists\n",
    "\n",
    "Remember, that any object can be a part of a list. So in theory we can have a list of lists, a list of tuples, a list of sets, a lists of dictionaries... Let's check an example. Imagine that we have a list that consists of two elements. The first is the list with student names, the second is the list with those students' grades."
   ]
  },
  {
   "cell_type": "code",
   "execution_count": null,
   "metadata": {},
   "outputs": [],
   "source": [
    "students = [['Mark', 'Alice'], [8, 9]]\n",
    "print(len(students)) # checking the number of elements\n",
    "print(students[0]) # accessing the first list\n",
    "print(students[1]) # accessing the second list"
   ]
  },
  {
   "cell_type": "markdown",
   "metadata": {},
   "source": [
    "See, the number of elements is not 4 but 2, and the indexing does not give us the strings `'Mark'` and `'Alice'`, but rather the first list and the second list. That happens because Python sees that sructure as some kind of a Russian doll — there are smaller elements withing the bigger ones.\n",
    "\n",
    "However, such structures are really convenient. Imagine our example list to be like a table where the first column contains student's names and the second — their grades.\n",
    "\n",
    "Actually, with such kind of structures we can use double (triple, quadraple...) indexing. Let's access information about the first student."
   ]
  },
  {
   "cell_type": "code",
   "execution_count": null,
   "metadata": {},
   "outputs": [],
   "source": [
    "print(students[0][0]) # the 1st student name\n",
    "print(students[1][0]) # the 1st student grade"
   ]
  },
  {
   "cell_type": "markdown",
   "metadata": {},
   "source": [
    "First, we've got the bigger element in which we are interested (the list of names under the index `0`) and then the 1st student name (the element of that list under the index `0`). Then we performed the same operations for the second list.\n",
    "\n",
    "Let's try another example. Now each nested list would describe a student based on three features — name, year of birth and major. And let's try to read and add info about new student."
   ]
  },
  {
   "cell_type": "code",
   "execution_count": null,
   "metadata": {},
   "outputs": [],
   "source": [
    "students = [['Ivan Ivanov', 2005, 'POLSCI'],\n",
    "            ['Oleg Sidorov', 2006, 'JOURN']]\n",
    "\n",
    "new_student = input(\"New stu.:\").split(',') # reading info items separated by comma\n",
    "new_student[1] = int(new_student[1]) # converting year of birth into integer\n",
    "students.append(new_student) # adding info about new student to a list\n",
    "print(students)"
   ]
  },
  {
   "cell_type": "markdown",
   "metadata": {},
   "source": [
    "Doesn't look too hard, yes? \n",
    "\n",
    "If you need to read information in `while` loop just do not forget to check the stop criteria and read information about the new student after you've appended the previous one to the list of lists. Look at the example below:"
   ]
  },
  {
   "cell_type": "code",
   "execution_count": null,
   "metadata": {},
   "outputs": [],
   "source": [
    "students = []\n",
    "info = input(\"New stu.: \")\n",
    "while info != 'END':\n",
    "    info_list = info.split(',')\n",
    "    info_list[1] = int(info_list[1])\n",
    "    students.append(info_list)\n",
    "    info = input(\"New stu.: \")\n",
    "print(students)"
   ]
  },
  {
   "cell_type": "markdown",
   "metadata": {},
   "source": [
    "Let's go back to our initial nested list. So now we know how to read data in such a list. But how can we retrieve information from it? Actually, don't fret and just treat nested list like a usual list. Let's start with `for in range()` type of loop."
   ]
  },
  {
   "cell_type": "code",
   "execution_count": null,
   "metadata": {},
   "outputs": [],
   "source": [
    "students = [['Ivan Ivanov', 2005, 'POLSCI'],\n",
    "            ['Oleg Sidorov', 2006, 'JOURN']]\n",
    "\n",
    "for i in range(len(students)):\n",
    "    print(students[i]) # prints nested list under the index `i`"
   ]
  },
  {
   "cell_type": "markdown",
   "metadata": {},
   "source": [
    "See, each nested list was printed in due time, when its index was assigned to `i` variable. Let's now output information about each student in a more fancy way."
   ]
  },
  {
   "cell_type": "code",
   "execution_count": null,
   "metadata": {},
   "outputs": [],
   "source": [
    "for i in range(len(students)):\n",
    "    print(f'Info about student #{i+1}')  # printing student's number\n",
    "    print('Name:', students[i][0])       # printing name\n",
    "    print('Age:', 2025 - students[i][1]) # calculating and printing age\n",
    "    print('Major:', students[i][2])      # printing major\n",
    "    print('*' * 20)"
   ]
  },
  {
   "cell_type": "markdown",
   "metadata": {},
   "source": [
    "If you don't need, let's say, a counter variable, you can go for a simple `for` loop and access nesting lists directly without using an index variable. Compare the code below to the one above."
   ]
  },
  {
   "cell_type": "code",
   "execution_count": null,
   "metadata": {},
   "outputs": [],
   "source": [
    "for item in students: # each nested list would be assigned to an `item` variable\n",
    "    print('Name:', item[0])\n",
    "    print('Age:', 2025 - item[1])\n",
    "    print('Major:', item[2])\n",
    "    print('*' * 20) # printing a divider to make out output prettier and more organized"
   ]
  },
  {
   "cell_type": "markdown",
   "metadata": {},
   "source": [
    "Sometimes it can even be ok to use a nested `for` loop to go through the elements of nested lists. E.g. if we don't need to print all elements of our list in some fancy way."
   ]
  },
  {
   "cell_type": "code",
   "execution_count": null,
   "metadata": {},
   "outputs": [],
   "source": [
    "for item in students: # each nested list would be assigned to `item`\n",
    "    for item_info in item: # each nested list element would be assigned to `item_info`\n",
    "        print(item_info)\n",
    "    print('*' * 20)"
   ]
  },
  {
   "cell_type": "markdown",
   "metadata": {},
   "source": [
    "Let's check another example. Now our nested lists represent grades for different students, each can have a different number of grades. Let's count how many grades of all our students are lower than 4."
   ]
  },
  {
   "cell_type": "code",
   "execution_count": null,
   "metadata": {},
   "outputs": [],
   "source": [
    "marks = [[2, 5, 5], [10, 8, 3, 9], [10, 8, 4, 5]]\n",
    "\n",
    "cnt = 0 # creating a counter variable\n",
    "for item in marks: # looping through the major list\n",
    "    for mark in item: # now looping through the nested list currently stored in `item`\n",
    "        if mark < 4:\n",
    "            cnt += 1\n",
    "\n",
    "print(cnt)"
   ]
  },
  {
   "cell_type": "markdown",
   "metadata": {},
   "source": [
    "Now let's calculate GPA for each of those students."
   ]
  },
  {
   "cell_type": "code",
   "execution_count": null,
   "metadata": {},
   "outputs": [],
   "source": [
    "marks = [[2, 5, 5], [10, 8, 3, 9], [10, 8, 4, 5]]\n",
    "\n",
    "for item in marks:\n",
    "    print(sum(item)/len(item))"
   ]
  },
  {
   "cell_type": "markdown",
   "metadata": {},
   "source": [
    "To make our output more fancy, let's use `for i in range()`:"
   ]
  },
  {
   "cell_type": "code",
   "execution_count": null,
   "metadata": {},
   "outputs": [],
   "source": [
    "marks = [[2, 5, 5], [10, 8, 3, 9], [10, 8, 4, 5]]\n",
    "\n",
    "for i in range(len(marks)):\n",
    "    print(f'Student #{i+1} GPA is: {sum(marks[i])/len(marks[i])}')"
   ]
  },
  {
   "cell_type": "markdown",
   "metadata": {},
   "source": [
    "## 2.2 Nested dictionary\n",
    "Now let's check an example with a nested dictionary. In dictionary only **values** can be `dictionaries`, `sets` or `lists`, **not keys**.\n",
    "\n",
    "Let's start with an example where keys are strings (dates) and the values are the lists of night and day temperatures for the given day.\n",
    "\n",
    "As with lists, we can simply loop through such object and retrive the information we need. We can also use double indexing passing first the key and then the index of the item in the list-value corresponding to that key.\n",
    "\n",
    "Let's for each day print the night temperature, the day temperature and the average."
   ]
  },
  {
   "cell_type": "code",
   "execution_count": null,
   "metadata": {},
   "outputs": [],
   "source": [
    "temp = {'1st APR':[5, 11], '2nd APR':[4, 12]}\n",
    "\n",
    "for key in temp:\n",
    "    print(key) # printing the date\n",
    "    print('Nighttime (max):', temp[key][0], 'degrees')\n",
    "    print('Daytime (max):', temp[key][1], 'degrees')\n",
    "    print('Average:', sum(temp[key])/len(temp[key]), 'degrees')\n",
    "    print('*'*10)"
   ]
  },
  {
   "cell_type": "markdown",
   "metadata": {},
   "source": [
    "Check below an example how we can read data into such kind of a dictionary."
   ]
  },
  {
   "cell_type": "code",
   "execution_count": null,
   "metadata": {},
   "outputs": [],
   "source": [
    "temp = {}\n",
    "info = input(\"Data: \") # expected format of input here is '1st Mai: 10, 18'\n",
    "while info != 'END':\n",
    "    date = info.split(': ')[0]\n",
    "    temp_values = list(map(int, info.split(': ')[1].split(', ')))\n",
    "    temp[date] = temp_values\n",
    "    info = input(\"Data: \")\n",
    "    \n",
    "print(temp)"
   ]
  },
  {
   "cell_type": "markdown",
   "metadata": {},
   "source": [
    "Now let's solve a problem. Imagine that Ilya wants to watch an anime and he asks his friends for the recommendations. Ilya will watch the anime which was recommended by the majority of people.\n",
    "\n",
    "**INPUT FORMAT:**\n",
    "* An unknown number of lines in a format `<ANIME TITLE>: <FRIEND NAME>`\n",
    "* One friend can recommend several titles.\n",
    "\n",
    "**OUTPUT FORMAT:**\n",
    "* Title of the anime that Ilya will watch.\n",
    "\n",
    "This is not the easiest problem, let's first read the data in the dictionary. Since one friend can recommend many animes, convenient format here would be to store the data in such dictionary where the title would be a key and the list of friends who have recommended it — a value."
   ]
  },
  {
   "cell_type": "code",
   "execution_count": null,
   "metadata": {},
   "outputs": [],
   "source": [
    "anime = {}\n",
    "advice = input() # reading the line like \"Tenki no ko: Pasha\"\n",
    "while advice != \"END\":\n",
    "    anime_title = advice.split(': ')[0] # saving title to a variable\n",
    "    friend = advice.split(': ')[1] # retrieving a friend's name\n",
    "    if anime_title not in anime: # if such anime was not yet recommended\n",
    "        anime[anime_title] = [friend] # then create such key and assign a list consisting of one name to it\n",
    "    else: # if such anime was already recommended\n",
    "        anime[anime_title].append(friend) # than append a new friend's name to an existing list assigned to that key\n",
    "    advice = input() # read a new input"
   ]
  },
  {
   "cell_type": "markdown",
   "metadata": {},
   "source": [
    "Great! We got quite a complex structure but it will help us to solve that problem quite nicely. Now we need to get to the second part. We have to find how many friends recommended each anime and which one got the maximum number of recommendations. We can compute the length of all values (lists with recommenders names) via `map()` function and then find the maximum."
   ]
  },
  {
   "cell_type": "code",
   "execution_count": null,
   "metadata": {},
   "outputs": [],
   "source": [
    "print(list(map(len, anime.values()))) # computing number of recommendations for each anime\n",
    "max_recs = max(map(len, anime.values())) # finding the highest number of recommendations\n",
    "print(max_recs)"
   ]
  },
  {
   "cell_type": "markdown",
   "metadata": {},
   "source": [
    "Now that we have the maximum number of recommendations, let's find the key which value has exactly the same length."
   ]
  },
  {
   "cell_type": "code",
   "execution_count": null,
   "metadata": {},
   "outputs": [],
   "source": [
    "for key in anime:\n",
    "    if len(anime[key]) == max_recs:\n",
    "        print(key)"
   ]
  },
  {
   "cell_type": "markdown",
   "metadata": {},
   "source": [
    "In case if we were not to come with a `map()` function trick, we could do it in a more lengthy way."
   ]
  },
  {
   "cell_type": "code",
   "execution_count": null,
   "metadata": {},
   "outputs": [],
   "source": [
    "max_recommend = 0 # initiating a counter variable\n",
    "for key in anime:\n",
    "    if len(anime[key]) > max_recommend: # if current anime has the highest number of recommendations\n",
    "        title_recommend = key # then update title of anime that Ilya will watch\n",
    "        max_recommend = len(anime[key]) # update the current maximum number of recommendations\n",
    "\n",
    "print(title_recommend)"
   ]
  },
  {
   "cell_type": "markdown",
   "metadata": {},
   "source": [
    "Now let's get the code for the problem in one place:"
   ]
  },
  {
   "cell_type": "code",
   "execution_count": null,
   "metadata": {},
   "outputs": [],
   "source": [
    "anime = {}\n",
    "advice = input() # reading the line like \"Tenki no ko: Pasha\"\n",
    "while advice != \"END\":\n",
    "    anime_title = advice.split(': ')[0] # saving title to a variable\n",
    "    friend = advice.split(': ')[1] # retrieving a friend's name\n",
    "    if anime_title not in anime: # if such anime was not yet recommended\n",
    "        anime[anime_title] = [friend] # then create such key and assign a list consisting of one name to it\n",
    "    else: # if such anime was already recommended\n",
    "        anime[anime_title].append(friend) # than append a new friend's name to an existing list assigned to that key\n",
    "    advice = input() # read a new input\n",
    "\n",
    "max_recs = max(map(len, anime.values())) # finding the maximum\n",
    "\n",
    "for key in anime:\n",
    "    if len(anime[key]) == max_recs:\n",
    "        print(key) # printing the title with the maximum number of recommendations"
   ]
  },
  {
   "cell_type": "code",
   "execution_count": null,
   "metadata": {},
   "outputs": [],
   "source": []
  }
 ],
 "metadata": {
  "colab": {
   "provenance": []
  },
  "kernelspec": {
   "display_name": "Python 3 (ipykernel)",
   "language": "python",
   "name": "python3"
  },
  "language_info": {
   "codemirror_mode": {
    "name": "ipython",
    "version": 3
   },
   "file_extension": ".py",
   "mimetype": "text/x-python",
   "name": "python",
   "nbconvert_exporter": "python",
   "pygments_lexer": "ipython3",
   "version": "3.10.9"
  }
 },
 "nbformat": 4,
 "nbformat_minor": 1
}
