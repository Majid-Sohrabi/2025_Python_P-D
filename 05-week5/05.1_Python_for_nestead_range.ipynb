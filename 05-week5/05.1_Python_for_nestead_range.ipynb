{
 "cells": [
  {
   "cell_type": "markdown",
   "metadata": {
    "id": "d8ShhvetFpA7"
   },
   "source": [
    "# Week 5.1: For, Range, Neasted for"
   ]
  },
  {
   "cell_type": "markdown",
   "metadata": {},
   "source": [
    "## 1. `For` loop\n",
    "\n",
    "Let's go back to our shopping list."
   ]
  },
  {
   "cell_type": "code",
   "execution_count": null,
   "metadata": {},
   "outputs": [],
   "source": [
    "shopping_list = ['bread', 'milk', 'pelmeni']\n",
    "print('We need to buy:', *shopping_list) # Prints the elements of the list."
   ]
  },
  {
   "cell_type": "markdown",
   "metadata": {},
   "source": [
    "Ok, via `*` operator we can print elements in our list. But what if we want to perform the same instruction to all elements within a list? E.g. to print a string 'We need to buy <item>' for each item in our shopping list."
   ]
  },
  {
   "cell_type": "code",
   "execution_count": null,
   "metadata": {},
   "outputs": [],
   "source": [
    "print(f'We need to buy: {shopping_list[0]}')\n",
    "print(f'We need to buy: {shopping_list[1]}')\n",
    "print(f'We need to buy: {shopping_list[2]}')"
   ]
  },
  {
   "cell_type": "markdown",
   "metadata": {},
   "source": [
    "Even with three elements it looks like too much of work. But what if we have hundreds of elements?\n",
    "\n",
    "Like it is often a case in Python, there is a tool which will help us to deal with a situation like this. We can use `for` loop to go through list's elements:\n",
    "\n",
    "```Python\n",
    "    for <item> in <list, tuple or string>:\n",
    "        <instructions to perform on item>\n",
    "```"
   ]
  },
  {
   "cell_type": "code",
   "execution_count": null,
   "metadata": {},
   "outputs": [],
   "source": [
    "shopping_list = ['bread', 'milk', 'pelmeni']\n",
    "\n",
    "for thing in shopping_list:\n",
    "# go through `shopping_list` and copy each object to a `thing` variable:\n",
    "    print(thing) # print contents of `thing` variable"
   ]
  },
  {
   "cell_type": "markdown",
   "metadata": {},
   "source": [
    "`for` loop creates a variable (`thing` in our example). This variable may be called anything. This variable is created withing a loop but exists outside it as well. In our case `thing` will contain the last item that was assigned to it. Let's check it!"
   ]
  },
  {
   "cell_type": "code",
   "execution_count": null,
   "metadata": {},
   "outputs": [],
   "source": [
    "print(thing) # checking what is inside `thing` variable"
   ]
  },
  {
   "cell_type": "markdown",
   "metadata": {},
   "source": [
    "Don't be surprised if you see two `for` loops in a row where the variable is called the same. Usually it is a technical variable and there is no much use for it outside of a loop.\n",
    "\n",
    "Of course we can do something more interesting then just printing things. Let's enumerate our shopping list."
   ]
  },
  {
   "cell_type": "code",
   "execution_count": null,
   "metadata": {},
   "outputs": [],
   "source": [
    "shopping_list = ['bread', 'milk', 'pelmeni']\n",
    "\n",
    "number = 1 # creating a variable with an index\n",
    "for thing in shopping_list:\n",
    "    print(number, thing) # printing an index and an item\n",
    "    number += 1 # updating an index by 1"
   ]
  },
  {
   "cell_type": "markdown",
   "metadata": {},
   "source": [
    "`For` loop works not only with lists. We can also use it for **strings** and **tuples**. And later we will learn about other data types where it can be also applied."
   ]
  },
  {
   "cell_type": "markdown",
   "metadata": {},
   "source": [
    "##  1.1 Loop through a tuple"
   ]
  },
  {
   "cell_type": "code",
   "execution_count": null,
   "metadata": {},
   "outputs": [],
   "source": [
    "mytuple = ('one' , 'two' , 'three' , 'four' , 'five' , 'six' , 'seven' , 'eight')\n",
    "mytuple"
   ]
  },
  {
   "cell_type": "code",
   "execution_count": null,
   "metadata": {},
   "outputs": [],
   "source": [
    "for i in mytuple:\n",
    "    print(i)"
   ]
  },
  {
   "cell_type": "code",
   "execution_count": null,
   "metadata": {},
   "outputs": [],
   "source": [
    "for i in enumerate(mytuple):\n",
    "    print(i)"
   ]
  },
  {
   "cell_type": "code",
   "execution_count": null,
   "metadata": {},
   "outputs": [],
   "source": [
    "for ind, val in enumerate(mytuple):\n",
    "    print(f'index is: {ind}')\n",
    "    print(f'value is: {val}\\n')"
   ]
  },
  {
   "cell_type": "markdown",
   "metadata": {},
   "source": [
    "## 1.2 Loop through a list"
   ]
  },
  {
   "cell_type": "code",
   "execution_count": null,
   "metadata": {},
   "outputs": [],
   "source": [
    "mylist = ['one', 'two', 'three']\n",
    "mylist"
   ]
  },
  {
   "cell_type": "code",
   "execution_count": null,
   "metadata": {},
   "outputs": [],
   "source": [
    "for i in mylist:\n",
    "    print(i)"
   ]
  },
  {
   "cell_type": "code",
   "execution_count": null,
   "metadata": {},
   "outputs": [],
   "source": [
    "for i in enumerate(mylist):\n",
    "    print(i)"
   ]
  },
  {
   "cell_type": "code",
   "execution_count": null,
   "metadata": {},
   "outputs": [],
   "source": [
    "for ind, val in enumerate(mylist):\n",
    "    print(f'index is: {ind}')\n",
    "    print(f'value is: {val}\\n')"
   ]
  },
  {
   "cell_type": "markdown",
   "metadata": {},
   "source": [
    "## 1.3 Loop through a string"
   ]
  },
  {
   "cell_type": "code",
   "execution_count": null,
   "metadata": {},
   "outputs": [],
   "source": [
    "mystring = 'Linguistics'\n",
    "mystring"
   ]
  },
  {
   "cell_type": "code",
   "execution_count": null,
   "metadata": {},
   "outputs": [],
   "source": [
    "for i in mystring:\n",
    "    print(i)"
   ]
  },
  {
   "cell_type": "code",
   "execution_count": null,
   "metadata": {},
   "outputs": [],
   "source": [
    "for i in enumerate(mystring):\n",
    "    print(i)"
   ]
  },
  {
   "cell_type": "code",
   "execution_count": null,
   "metadata": {},
   "outputs": [],
   "source": [
    "for ind, val in enumerate(mystring):\n",
    "    print(f'index is: {ind}')\n",
    "    print(f'value is: {val}\\n')"
   ]
  },
  {
   "cell_type": "code",
   "execution_count": null,
   "metadata": {},
   "outputs": [],
   "source": []
  },
  {
   "cell_type": "code",
   "execution_count": null,
   "metadata": {},
   "outputs": [],
   "source": []
  },
  {
   "cell_type": "code",
   "execution_count": null,
   "metadata": {},
   "outputs": [],
   "source": []
  },
  {
   "cell_type": "markdown",
   "metadata": {},
   "source": [
    "# 2. `For` loop and `Range`\n",
    "\n",
    "There are cases when we need to not simply go through the elements within a list, but to call them by index. Remember an example with an enumerated shopping list."
   ]
  },
  {
   "cell_type": "code",
   "execution_count": null,
   "metadata": {},
   "outputs": [],
   "source": [
    "shopping_list = ['bread', 'milk', 'pelmeni']\n",
    "\n",
    "number = 1\n",
    "for thing in shopping_list:\n",
    "    print(number, thing)\n",
    "    number += 1"
   ]
  },
  {
   "cell_type": "markdown",
   "metadata": {},
   "source": [
    "It would be easier to have a variable that would go from 0 to 4 and we wouldn't have to worry about updating it manually. We can actually get something like this via the `range()` function.\n",
    "\n",
    "`range()` generates a sequence of numbers in a given interval. Let's turn `range()` into a list to check what is inside."
   ]
  },
  {
   "cell_type": "code",
   "execution_count": null,
   "metadata": {},
   "outputs": [],
   "source": [
    "print(range(3)) # creates an interval of numbers from 0 to 3\n",
    "\n",
    "print(list(range(3))) # checking what is inside"
   ]
  },
  {
   "cell_type": "markdown",
   "metadata": {},
   "source": [
    "Now let's use the result of a `range()` within a loop."
   ]
  },
  {
   "cell_type": "code",
   "execution_count": null,
   "metadata": {},
   "outputs": [],
   "source": [
    "for i in range(3):\n",
    "    print(i)"
   ]
  },
  {
   "cell_type": "markdown",
   "metadata": {},
   "source": [
    "Here `for` loop goes from 0 (including) to 3 (excluding).\n",
    "\n",
    "We can start with other integer than 0. In this case we will need two arguments within `range()`."
   ]
  },
  {
   "cell_type": "markdown",
   "metadata": {},
   "source": [
    "And, finally, we can ask Python to create an interval with a step by providing `range` with the third argument.\n",
    "\n",
    "Let's print all odd numbers from 1 to 10 (meaning each second number within this interval)."
   ]
  },
  {
   "cell_type": "code",
   "execution_count": null,
   "metadata": {},
   "outputs": [],
   "source": [
    "for i in range(1,10,2):\n",
    "    print(i)"
   ]
  },
  {
   "cell_type": "markdown",
   "metadata": {},
   "source": [
    "Now we know enough to use `range()` to enumerate something within `for` loop."
   ]
  },
  {
   "cell_type": "code",
   "execution_count": null,
   "metadata": {},
   "outputs": [],
   "source": [
    "for i in range(5):\n",
    "# for each number in interval from 0 to 5 (excluding)\n",
    "# store it to `i` variable\n",
    "  print('Hello'[i]) # print a symbol of `Hello` string with an index `i`"
   ]
  },
  {
   "cell_type": "markdown",
   "metadata": {},
   "source": [
    "String `'Hello'` is quite short and it was not hard to count its length. To avoid mistakes it is better to use `len()` function to calculate the length of our sequence in hand.\n",
    "\n",
    "Even though in our example we work with a string, the same would work, of course, for lists and other data types."
   ]
  },
  {
   "cell_type": "code",
   "execution_count": null,
   "metadata": {},
   "outputs": [],
   "source": [
    "for i in range(len('Hello')):\n",
    "    print(i, 'Hello'[i]) # print index stored in `i` variable as well as a symbol with that index"
   ]
  },
  {
   "cell_type": "markdown",
   "metadata": {},
   "source": [
    "Let's update our enumeration to be human-friendly."
   ]
  },
  {
   "cell_type": "code",
   "execution_count": null,
   "metadata": {},
   "outputs": [],
   "source": [
    "for i in range(len('Hello')):\n",
    "    print(i+1, 'Hello'[i]) # update i by adding 1"
   ]
  },
  {
   "cell_type": "markdown",
   "metadata": {},
   "source": [
    "Sometimes we can use `range()` instead of a `while` loop. Especially when we need to repeat an action for a given number of times. Let's feed a dog this time."
   ]
  },
  {
   "cell_type": "code",
   "execution_count": null,
   "metadata": {},
   "outputs": [],
   "source": [
    "n = 0            # setting an initial number of treats giving\n",
    "while n < 5 :   # until we give 5 treats\n",
    "    print('Giving dog a treat')   # giving a treat to a dog\n",
    "    n += 1\n",
    "print('Treats given:', n)"
   ]
  },
  {
   "cell_type": "markdown",
   "metadata": {},
   "source": [
    "In case if we forget to update `n`, our dog will eat all the treats in the world. If we use `for` instead we will never make a mistake — Python will look after a number of treats for us:"
   ]
  },
  {
   "cell_type": "code",
   "execution_count": null,
   "metadata": {},
   "outputs": [],
   "source": [
    "for n in range(5):     # Planning to give 5 treats to a dog\n",
    "    print('Giving a treat') # feeding a dog\n",
    "\n",
    "print('Treats given:', n)"
   ]
  },
  {
   "cell_type": "markdown",
   "metadata": {},
   "source": [
    "Why Python thinks that only 4 treats were given? Because to `n` numbers from 0 to 4 were assigned. Thus Python repeated instructions exactly five times, but the last number it has saved is 4."
   ]
  },
  {
   "cell_type": "code",
   "execution_count": null,
   "metadata": {},
   "outputs": [],
   "source": [
    "for n in range(5):\n",
    "    print('Giving a treat')\n",
    "\n",
    "print('Treats given:', n+1) # correcting number of treats to be human-friendly"
   ]
  },
  {
   "cell_type": "code",
   "execution_count": null,
   "metadata": {},
   "outputs": [],
   "source": []
  },
  {
   "cell_type": "code",
   "execution_count": null,
   "metadata": {},
   "outputs": [],
   "source": []
  },
  {
   "cell_type": "code",
   "execution_count": null,
   "metadata": {},
   "outputs": [],
   "source": []
  },
  {
   "cell_type": "markdown",
   "metadata": {},
   "source": [
    "# 3. Nested `for` loops"
   ]
  },
  {
   "cell_type": "markdown",
   "metadata": {},
   "source": [
    "Sometimes we need to go through two lists simultaneously. E.g. let's print a part of a multiplication table for number 2, 3 and 4.\n",
    "\n",
    "* We will first go through the list of [2, 3, 4]\n",
    "* For each of the number in our list we will multiply it by numbers from 1 to 9."
   ]
  },
  {
   "cell_type": "code",
   "execution_count": null,
   "metadata": {},
   "outputs": [],
   "source": [
    "for a in [2,3,4]:\n",
    "    print(a)"
   ]
  },
  {
   "cell_type": "code",
   "execution_count": null,
   "metadata": {},
   "outputs": [],
   "source": [
    "for i in range(1,10):\n",
    "    print(i)"
   ]
  },
  {
   "cell_type": "code",
   "execution_count": null,
   "metadata": {},
   "outputs": [],
   "source": [
    "for a in [2,3,4]:\n",
    "    for b in range(1,10):\n",
    "        print(f'{a}*{b} = {a*b}')\n",
    "        \n",
    "    print('-'*10) # printing an end-line for the multiplications for the given number\n",
    "    \n",
    "    break   # Let's exit a loop for now after we finish multiplying by 2"
   ]
  },
  {
   "cell_type": "markdown",
   "metadata": {},
   "source": [
    "So, what has happened? Integer 2 was assigned to a variable `a`. Then we've started the second loop, where we had multiplied contents of `a` variable by all numbers in an interval from 1 to 9. Then we've printed ten dashes to indicate that we had finished with that number.\n",
    "\n",
    "If we were not to exit our loop via break, it would do the same for 3 and then for 4."
   ]
  },
  {
   "cell_type": "code",
   "execution_count": null,
   "metadata": {},
   "outputs": [],
   "source": [
    "for a in [2,3,4]:\n",
    "    for b in range(1,10):\n",
    "        print(f'{a}*{b} = {a*b}')\n",
    "    print('-'*10)"
   ]
  },
  {
   "cell_type": "markdown",
   "metadata": {},
   "source": [
    "Nested loops might be useful not only in problems with numbers. Let's print a party invitation for several students."
   ]
  },
  {
   "cell_type": "code",
   "execution_count": null,
   "metadata": {},
   "outputs": [],
   "source": [
    "students = ('Anna', 'Dima', 'Shushanik', 'Yu Na') # tuple of our students\n",
    "date = input('Date: ')\n",
    "time = input('Time: ')\n",
    "\n",
    "for name in students: # for each student print the following invintation\n",
    "    print(f'\\n\\nHi, {name}!\\nYou are invited to a party on {date} at {time}. Waiting for you!')"
   ]
  },
  {
   "cell_type": "markdown",
   "metadata": {},
   "source": [
    "Now imagine that we want print that invitation in Russian as well. Let's create a tuple with two invitation texts."
   ]
  },
  {
   "cell_type": "code",
   "execution_count": null,
   "metadata": {},
   "outputs": [],
   "source": [
    "students = ('Anna', 'Dima', 'Shushanik', 'Yu Na') # tuple of our students\n",
    "date = input('Date: ')\n",
    "time = input('Time: ')\n",
    "\n",
    "for name in students:\n",
    "    texts = (f'\\n\\nHi, {name}!\\nYou are invited to a party on {date} at {time}. Waiting for you!',\n",
    "             f'\\nПривет, {name}!\\nВечеринка пройдет {date} в {time}. Очень ждем!')\n",
    "    for text in texts: # for each student print each invitation\n",
    "        print(text)"
   ]
  },
  {
   "cell_type": "markdown",
   "metadata": {},
   "source": [
    "Sometimes there are also situations when we need `for in range()` to connect three sequences. Imagine that we want to print a receipt in a book store. We have a list of prices for the purchased books, titles for those books and, finally, quantities."
   ]
  },
  {
   "cell_type": "code",
   "execution_count": null,
   "metadata": {},
   "outputs": [],
   "source": [
    "prices = [422, 382, 3544]\n",
    "\n",
    "goods = ['Harry Potter and FOR Loop', 'X-Men against Doctor Tuple', 'Learning Python. Vol.1']\n",
    "\n",
    "amount = [1, 1, 3]\n",
    "\n",
    "for i in range(len(goods)):\n",
    "    \n",
    "    print(f\"Book name: {goods[i]}\\nAmount x price: {amount[i]} x {prices[i]}\")\n",
    "    print(f\"Total: {amount[i] * prices[i]} ₽\\n\")"
   ]
  },
  {
   "cell_type": "markdown",
   "metadata": {},
   "source": [
    "## 2.1 Break and continue in loop"
   ]
  },
  {
   "cell_type": "code",
   "execution_count": null,
   "metadata": {},
   "outputs": [],
   "source": [
    "my_listI = [2, 5, 6, 7, 4, 3]\n",
    "\n",
    "for item in my_listI:\n",
    "    if (item == 6):\n",
    "        break\n",
    "    print(item)"
   ]
  },
  {
   "cell_type": "code",
   "execution_count": null,
   "metadata": {},
   "outputs": [],
   "source": [
    "my_listI = [2, 5, 6, 7, 4, 3]\n",
    "\n",
    "for item in my_listI:\n",
    "    if (item == 6):\n",
    "        continue\n",
    "    print(item)"
   ]
  },
  {
   "cell_type": "code",
   "execution_count": null,
   "metadata": {},
   "outputs": [],
   "source": [
    "# From which loop we are breaking or continuing the loop?\n",
    "<YOUR ANSWER>"
   ]
  },
  {
   "cell_type": "code",
   "execution_count": null,
   "metadata": {},
   "outputs": [],
   "source": []
  },
  {
   "cell_type": "code",
   "execution_count": null,
   "metadata": {},
   "outputs": [],
   "source": []
  }
 ],
 "metadata": {
  "colab": {
   "provenance": []
  },
  "kernelspec": {
   "display_name": "Python 3 (ipykernel)",
   "language": "python",
   "name": "python3"
  },
  "language_info": {
   "codemirror_mode": {
    "name": "ipython",
    "version": 3
   },
   "file_extension": ".py",
   "mimetype": "text/x-python",
   "name": "python",
   "nbconvert_exporter": "python",
   "pygments_lexer": "ipython3",
   "version": "3.10.9"
  }
 },
 "nbformat": 4,
 "nbformat_minor": 1
}
